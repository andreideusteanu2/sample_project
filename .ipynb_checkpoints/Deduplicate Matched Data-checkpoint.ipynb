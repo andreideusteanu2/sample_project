{
 "cells": [
  {
   "cell_type": "code",
   "execution_count": 4,
   "id": "61ee40ed-294f-43f0-a9b7-970a283ca5c5",
   "metadata": {},
   "outputs": [],
   "source": [
    "import pandas as pd\n",
    "import numpy as np\n",
    "import gcsfs\n",
    "import recordlinkage as rl\n",
    "import matching as m\n",
    "import helpers as h\n",
    "%load_ext autoreload\n",
    "%autoreload 2"
   ]
  },
  {
   "cell_type": "code",
   "execution_count": 5,
   "id": "ff2e91cf-a1fa-4bdc-bc75-9f5ccc1e25d1",
   "metadata": {},
   "outputs": [],
   "source": [
    "from gcsfs.core import GCSFileSystem\n",
    "gcs = GCSFileSystem('courseradataeng', token='/home/jupyter/.config/gcloud/application_default_credentials.json') "
   ]
  },
  {
   "cell_type": "code",
   "execution_count": 16,
   "id": "c2d2a9f3-d3e8-4459-b7e3-f58102c06c81",
   "metadata": {},
   "outputs": [],
   "source": [
    "with gcs.open('soleadify_sample_data/unified_matched_data/matches_simplified.csv') as f:\n",
    "    matches_simplified = pd.read_csv(f, quotechar='\"', escapechar='\\\\')"
   ]
  },
  {
   "cell_type": "markdown",
   "id": "9ce7a87a-28c2-4090-80c4-6f6af6ef1c9c",
   "metadata": {},
   "source": [
    "In order to check if there are any duplicates in this dataset, I will rely on the root_domain as the unique key"
   ]
  },
  {
   "cell_type": "code",
   "execution_count": 17,
   "id": "eef4a77f-dbc1-4a43-82f6-294a7d2f290b",
   "metadata": {},
   "outputs": [
    {
     "name": "stdout",
     "output_type": "stream",
     "text": [
      "There are 29,761 rows in the dataset\n",
      "There are 26,350 unique entities in the dataset\n"
     ]
    }
   ],
   "source": [
    "print('There are {:,} rows in the dataset'.format(matches_simplified.shape[0]))\n",
    "print('There are {:,} unique entities in the dataset'.format(matches_simplified['root_domain_final'].nunique()))"
   ]
  },
  {
   "cell_type": "code",
   "execution_count": 18,
   "id": "0e635b1f-b7ea-4500-bd60-af9fafb2f9b6",
   "metadata": {},
   "outputs": [
    {
     "data": {
      "text/plain": [
       "Index(['category__facebook', 'category__google', 'category__website',\n",
       "       'description__facebook', 'description__google', 'email__facebook',\n",
       "       'index__facebook', 'index__google', 'index__website',\n",
       "       'language__website', 'legal_name__website', 'page_type__facebook',\n",
       "       'country_clean_final', 'region_clean_final', 'city_clean_final',\n",
       "       'root_domain_final', 'zip_code_unified', 'phone_unified',\n",
       "       'site_name_final', 'address_unified'],\n",
       "      dtype='object')"
      ]
     },
     "execution_count": 18,
     "metadata": {},
     "output_type": "execute_result"
    }
   ],
   "source": [
    "matches_simplified.columns"
   ]
  },
  {
   "cell_type": "code",
   "execution_count": 115,
   "id": "db279f2e-67cf-4bf0-aac7-dab63f87b6c1",
   "metadata": {},
   "outputs": [],
   "source": [
    "levels_of_logic = {\n",
    "    'level_1':{'country_clean_final':'value'\n",
    "              ,'region_clean_final':'value'\n",
    "              ,'city_clean_final':'value'\n",
    "              ,'root_domain_final':'value'\n",
    "              ,'site_name_final':'notna'\n",
    "             }\n",
    "    ,'level_2':{'country_clean_final':'value'\n",
    "              ,'region_clean_final':'value'\n",
    "              ,'city_clean_final':'isna'\n",
    "              ,'root_domain_final':'value'\n",
    "              ,'site_name_final':'notna'\n",
    "             }\n",
    "    ,'level_3':{'country_clean_final':'value'\n",
    "              ,'region_clean_final':'isna'\n",
    "              ,'city_clean_final':'isna'\n",
    "              ,'root_domain_final':'value'\n",
    "              ,'site_name_final':'notna'\n",
    "             }\n",
    "    ,'level_4':{'country_clean_final':'isna'\n",
    "              ,'region_clean_final':'isna'\n",
    "              ,'city_clean_final':'isna'\n",
    "              ,'root_domain_final':'value'\n",
    "              ,'site_name_final':'notna'\n",
    "             }\n",
    "    ,'level_5':{'country_clean_final':'isna'\n",
    "              ,'region_clean_final':'isna'\n",
    "              ,'city_clean_final':'isna'\n",
    "              ,'root_domain_final':'value'\n",
    "              ,'site_name_final':'isna'\n",
    "             }\n",
    "}"
   ]
  },
  {
   "cell_type": "code",
   "execution_count": 124,
   "id": "a270f21a-f7cf-4b50-bed4-3ee2321d2d79",
   "metadata": {},
   "outputs": [],
   "source": [
    "uniques = pd.DataFrame()\n",
    "deduplicated = []\n",
    "for logic_dict in levels_of_logic.values():\n",
    "    blocking_columns = []\n",
    "    similar_columns = []\n",
    "    for column in logic_dict.keys():\n",
    "        if logic_dict[column] == 'value':\n",
    "            blocking_columns.append(column)\n",
    "        elif logic_dict[column] == 'notna':\n",
    "            similar_columns.append(column)\n",
    "\n",
    "    combinations = h.get_combinations(matches_simplified, None,blocking_columns)\n",
    "\n",
    "    for combination in combinations:\n",
    "        filtering_dict = h.get_filtering_dict(logic_dict, combination)\n",
    "        filtering_query = h.get_filtering_query(filtering_dict)\n",
    "        dataset = h.filter_data(matches_simplified, None, filtering_query, None)\n",
    "        if dataset.shape[0]>1:\n",
    "            out=m.unify_rows(dataset, blocking_columns)\n",
    "            deduplicated.append(out)\n",
    "        else:\n",
    "            uniques = pd.concat([uniques, dataset])"
   ]
  },
  {
   "cell_type": "code",
   "execution_count": 127,
   "id": "244cffc5-27b0-4a53-8e6b-ee5bb8033cd6",
   "metadata": {},
   "outputs": [],
   "source": [
    "uniques_ord = uniques.reindex(sorted(uniques.columns), axis=1)\n",
    "deduplicated_df = pd.DataFrame(deduplicated)\n",
    "deduplicated_df_ord = deduplicated_df.reindex(sorted(deduplicated_df.columns), axis=1)\n",
    "final = pd.concat([uniques_ord, deduplicated_df_ord])"
   ]
  },
  {
   "cell_type": "code",
   "execution_count": 130,
   "id": "01c7367e-46b0-4d0a-8159-8c451b3c3088",
   "metadata": {},
   "outputs": [],
   "source": [
    "final['index__website'] = final['index__website'].astype('Int64')\n",
    "final['index__google'] = final['index__google'].astype('Int64')\n",
    "final['index__facebook'] = final['index__facebook'].astype('Int64')"
   ]
  },
  {
   "cell_type": "code",
   "execution_count": 132,
   "id": "e95db878-6fca-4dc0-94a8-00cbe9f9927d",
   "metadata": {},
   "outputs": [],
   "source": [
    "with gcs.open('soleadify_sample_data/unified_and_unmatched_data/unified_unique.csv','w') as f:\n",
    "    final.to_csv(f, index=False, quotechar='\"', escapechar='\\\\')"
   ]
  },
  {
   "cell_type": "code",
   "execution_count": 137,
   "id": "9cdd0f33-eadb-4702-9380-5b5042c1fdc9",
   "metadata": {},
   "outputs": [
    {
     "name": "stdout",
     "output_type": "stream",
     "text": [
      "facebook\n",
      "google\n",
      "website\n"
     ]
    }
   ],
   "source": [
    "objs = gcs.ls('soleadify_sample_data/clean_data')\n",
    "for path in objs:\n",
    "    if path[-4:] == '.csv':\n",
    "        fileName = path.split('/')[-1]\n",
    "        origin = fileName.split('_')[0]\n",
    "        print(origin)\n",
    "        with gcs.open(path) as f:\n",
    "            if origin in ['facebook','google']:\n",
    "                dataset = pd.read_csv(f, quotechar='\"', escapechar='\\\\')\n",
    "            else:\n",
    "                dataset = pd.read_csv(f)\n",
    "        umatched = dataset.loc[~dataset.index.isin(final['index__'+origin])]\n",
    "        with gcs.open('soleadify_sample_data/unified_and_unmatched_data/'+origin+'_unmatched.csv','w') as f:\n",
    "            umatched.to_csv(f, index=False, quotechar='\"', escapechar='\\\\')"
   ]
  }
 ],
 "metadata": {
  "environment": {
   "kernel": "python3",
   "name": "common-cpu.m87",
   "type": "gcloud",
   "uri": "gcr.io/deeplearning-platform-release/base-cpu:m87"
  },
  "kernelspec": {
   "display_name": "Python 3",
   "language": "python",
   "name": "python3"
  },
  "language_info": {
   "codemirror_mode": {
    "name": "ipython",
    "version": 3
   },
   "file_extension": ".py",
   "mimetype": "text/x-python",
   "name": "python",
   "nbconvert_exporter": "python",
   "pygments_lexer": "ipython3",
   "version": "3.7.12"
  }
 },
 "nbformat": 4,
 "nbformat_minor": 5
}
