{
 "cells": [
  {
   "cell_type": "code",
   "execution_count": 44,
   "id": "ca9653ac-29e9-4f48-85c6-50f704b2a091",
   "metadata": {},
   "outputs": [
    {
     "name": "stdout",
     "output_type": "stream",
     "text": [
      "The autoreload extension is already loaded. To reload it, use:\n",
      "  %reload_ext autoreload\n"
     ]
    }
   ],
   "source": [
    "import pandas as pd\n",
    "import numpy as np\n",
    "import gcsfs\n",
    "import recordlinkage as rl\n",
    "import matching as m\n",
    "import helpers as h\n",
    "%load_ext autoreload\n",
    "%autoreload 2"
   ]
  },
  {
   "cell_type": "code",
   "execution_count": 2,
   "id": "a0a29f6f-cfc6-47f0-a7aa-5f6d9e1b8f85",
   "metadata": {},
   "outputs": [],
   "source": [
    "from gcsfs.core import GCSFileSystem\n",
    "gcs = GCSFileSystem('courseradataeng', token='/home/jupyter/.config/gcloud/application_default_credentials.json') "
   ]
  },
  {
   "cell_type": "code",
   "execution_count": 65,
   "id": "6cbddc4d-143c-470d-89f9-343b4381c6ba",
   "metadata": {},
   "outputs": [
    {
     "name": "stdout",
     "output_type": "stream",
     "text": [
      "(7, 30)\n",
      "(310, 30)\n",
      "(2, 30)\n",
      "(2322, 30)\n",
      "(1307, 30)\n"
     ]
    }
   ],
   "source": [
    "file_paths = gcs.ls('soleadify_sample_data/facebook_google_matches')\n",
    "facebook_google_matches = pd.DataFrame()\n",
    "for file_path in file_paths:\n",
    "    if file_path[-4:] == '.csv':\n",
    "        with gcs.open(file_path) as f:\n",
    "            subset = pd.read_csv(f, quotechar='\"', escapechar='\\\\')\n",
    "        subset = subset.reindex(sorted(subset.columns), axis=1)\n",
    "        print(subset.shape)\n",
    "        facebook_google_matches = pd.concat([facebook_google_matches, subset])"
   ]
  },
  {
   "cell_type": "code",
   "execution_count": 66,
   "id": "1e283812-4df7-4a7f-a99c-6cd6a4fed169",
   "metadata": {},
   "outputs": [
    {
     "data": {
      "text/plain": [
       "(3948, 30)"
      ]
     },
     "execution_count": 66,
     "metadata": {},
     "output_type": "execute_result"
    }
   ],
   "source": [
    "facebook_google_matches.shape"
   ]
  },
  {
   "cell_type": "code",
   "execution_count": 67,
   "id": "85b94221-472d-43c3-9ebd-db6379b87826",
   "metadata": {},
   "outputs": [
    {
     "name": "stdout",
     "output_type": "stream",
     "text": [
      "(1, 28)\n",
      "(158, 28)\n",
      "(3, 28)\n",
      "(352, 28)\n",
      "(475, 28)\n",
      "(7, 28)\n"
     ]
    }
   ],
   "source": [
    "file_paths = gcs.ls('soleadify_sample_data/google_website_matches')\n",
    "google_website_matches = pd.DataFrame()\n",
    "for file_path in file_paths:\n",
    "    if file_path[-4:] == '.csv':\n",
    "        with gcs.open(file_path) as f:\n",
    "            subset = pd.read_csv(f, quotechar='\"', escapechar='\\\\')\n",
    "        subset = subset.reindex(sorted(subset.columns), axis=1)\n",
    "        print(subset.shape)\n",
    "        google_website_matches = pd.concat([google_website_matches, subset])"
   ]
  },
  {
   "cell_type": "code",
   "execution_count": 68,
   "id": "8f9d328a-2a96-4195-bad7-d29adc7b675e",
   "metadata": {},
   "outputs": [
    {
     "data": {
      "text/plain": [
       "(996, 28)"
      ]
     },
     "execution_count": 68,
     "metadata": {},
     "output_type": "execute_result"
    }
   ],
   "source": [
    "google_website_matches.shape"
   ]
  },
  {
   "cell_type": "code",
   "execution_count": 12,
   "id": "e31a7f2d-0927-4693-b018-585cca5c24a8",
   "metadata": {},
   "outputs": [
    {
     "data": {
      "text/plain": [
       "Index(['address__facebook', 'address__google', 'categories', 'category',\n",
       "       'city_clean__facebook', 'city_clean__google', 'country_clean__facebook',\n",
       "       'country_clean__google', 'description', 'email', 'index__facebook',\n",
       "       'index__google', 'link', 'page_type', 'phone__facebook',\n",
       "       'phone__google', 'raw_address', 'raw_phone', 'region_clean__facebook',\n",
       "       'region_clean__google', 'region_code__facebook', 'region_code__google',\n",
       "       'region_name', 'root_domain__facebook', 'root_domain__google',\n",
       "       'site_name_clean__facebook', 'site_name_clean__google', 'text',\n",
       "       'zip_code__facebook', 'zip_code__google'],\n",
       "      dtype='object')"
      ]
     },
     "execution_count": 12,
     "metadata": {},
     "output_type": "execute_result"
    }
   ],
   "source": [
    "facebook_google_matches.columns"
   ]
  },
  {
   "cell_type": "code",
   "execution_count": 69,
   "id": "64d901f3-1da0-4bb5-b624-3f7ffacd3fd2",
   "metadata": {},
   "outputs": [],
   "source": [
    "renamers = {'categories':'category__facebook'\n",
    "            ,'category':'category__google'\n",
    "           ,'description':'description__facebook'\n",
    "            ,'text':'description__google'\n",
    "           ,'email':'email__facebook'\n",
    "           ,'link':'link__facebook'\n",
    "           ,'page_type':'page_type__facebook'\n",
    "           ,'raw_address':'raw_address__google'\n",
    "           ,'raw_phone':'raw_phone__google'\n",
    "           }\n",
    "to_drop = ['region_name','region_code__facebook','region_code__google']\n",
    "facebook_google_matches = (facebook_google_matches\n",
    "                        .drop(to_drop, axis=1)\n",
    "                        .rename(columns = renamers)\n",
    "                          )"
   ]
  },
  {
   "cell_type": "code",
   "execution_count": 13,
   "id": "b6fee620-d268-488a-906b-cbbbf68ac3ad",
   "metadata": {},
   "outputs": [
    {
     "data": {
      "text/plain": [
       "Index(['address', 'category', 'category_clean', 'city_clean__google',\n",
       "       'city_clean__website', 'country_clean__google',\n",
       "       'country_clean__website', 'domain_suffix', 'index__google',\n",
       "       'index__website', 'language', 'legal_name_clean', 'phone__google',\n",
       "       'phone__website', 'raw_address', 'raw_phone', 'region_clean__google',\n",
       "       'region_clean__website', 'region_code', 'region_name',\n",
       "       'root_domain__google', 'root_domain__website', 'site_name',\n",
       "       'site_name_clean__google', 'site_name_clean__website', 'text', 'tld',\n",
       "       'zip_code'],\n",
       "      dtype='object')"
      ]
     },
     "execution_count": 13,
     "metadata": {},
     "output_type": "execute_result"
    }
   ],
   "source": [
    "google_website_matches.columns"
   ]
  },
  {
   "cell_type": "code",
   "execution_count": 70,
   "id": "0decc587-6e54-4f57-8c19-075c67fa10e9",
   "metadata": {},
   "outputs": [],
   "source": [
    "renamers = {'address':'address__google'\n",
    "            ,'category':'category__google'\n",
    "            ,'category_clean':'category__website'\n",
    "            ,'language':'language__website'\n",
    "            ,'legal_name_clean':'legal_name__website'\n",
    "            ,'text':'description__google'\n",
    "           ,'raw_address':'raw_address__google'\n",
    "           ,'raw_phone':'raw_phone__google'\n",
    "            ,'zip_code':'zip_code__google'\n",
    "           }\n",
    "to_drop = ['domain_suffix','tld','region_code','region_name','site_name']\n",
    "google_website_matches = (google_website_matches\n",
    "                        .drop(to_drop, axis=1)\n",
    "                        .rename(columns = renamers)\n",
    "                          )"
   ]
  },
  {
   "cell_type": "code",
   "execution_count": 71,
   "id": "3b8eee76-2d12-446c-8d4a-997756571ed9",
   "metadata": {},
   "outputs": [],
   "source": [
    "cols_1 = list(google_website_matches.columns)\n",
    "cols_1.sort()"
   ]
  },
  {
   "cell_type": "code",
   "execution_count": 72,
   "id": "ac9d8451-76cf-41dc-8f1a-d3fd037d9119",
   "metadata": {},
   "outputs": [],
   "source": [
    "cols_2 = list(facebook_google_matches.columns)\n",
    "cols_2.sort()"
   ]
  },
  {
   "cell_type": "code",
   "execution_count": 73,
   "id": "c52d1a64-c184-4bab-92e0-33422807c1f4",
   "metadata": {},
   "outputs": [],
   "source": [
    "cols_1_df = pd.Series(cols_1).rename('google_website_matches').to_frame()\n",
    "cols_2_df = pd.Series(cols_2).rename('facebook_google_matches').to_frame()\n",
    "columns = cols_1_df.merge(cols_2_df, how='outer', left_on='google_website_matches'\n",
    "                          , right_on='facebook_google_matches')"
   ]
  },
  {
   "cell_type": "code",
   "execution_count": 47,
   "id": "d598724f-36b0-4638-883b-09224ed48c41",
   "metadata": {},
   "outputs": [
    {
     "data": {
      "text/html": [
       "<div>\n",
       "<style scoped>\n",
       "    .dataframe tbody tr th:only-of-type {\n",
       "        vertical-align: middle;\n",
       "    }\n",
       "\n",
       "    .dataframe tbody tr th {\n",
       "        vertical-align: top;\n",
       "    }\n",
       "\n",
       "    .dataframe thead th {\n",
       "        text-align: right;\n",
       "    }\n",
       "</style>\n",
       "<table border=\"1\" class=\"dataframe\">\n",
       "  <thead>\n",
       "    <tr style=\"text-align: right;\">\n",
       "      <th></th>\n",
       "      <th>google_website_matches</th>\n",
       "      <th>facebook_google_matches</th>\n",
       "    </tr>\n",
       "  </thead>\n",
       "  <tbody>\n",
       "    <tr>\n",
       "      <th>0</th>\n",
       "      <td>address__google</td>\n",
       "      <td>address__google</td>\n",
       "    </tr>\n",
       "    <tr>\n",
       "      <th>1</th>\n",
       "      <td>category__google</td>\n",
       "      <td>category__google</td>\n",
       "    </tr>\n",
       "    <tr>\n",
       "      <th>2</th>\n",
       "      <td>category__website</td>\n",
       "      <td>NaN</td>\n",
       "    </tr>\n",
       "    <tr>\n",
       "      <th>3</th>\n",
       "      <td>city_clean__google</td>\n",
       "      <td>city_clean__google</td>\n",
       "    </tr>\n",
       "    <tr>\n",
       "      <th>4</th>\n",
       "      <td>city_clean__website</td>\n",
       "      <td>NaN</td>\n",
       "    </tr>\n",
       "    <tr>\n",
       "      <th>5</th>\n",
       "      <td>country_clean__google</td>\n",
       "      <td>country_clean__google</td>\n",
       "    </tr>\n",
       "    <tr>\n",
       "      <th>6</th>\n",
       "      <td>country_clean__website</td>\n",
       "      <td>NaN</td>\n",
       "    </tr>\n",
       "    <tr>\n",
       "      <th>7</th>\n",
       "      <td>description__google</td>\n",
       "      <td>description__google</td>\n",
       "    </tr>\n",
       "    <tr>\n",
       "      <th>8</th>\n",
       "      <td>index__google</td>\n",
       "      <td>index__google</td>\n",
       "    </tr>\n",
       "    <tr>\n",
       "      <th>9</th>\n",
       "      <td>index__website</td>\n",
       "      <td>NaN</td>\n",
       "    </tr>\n",
       "    <tr>\n",
       "      <th>10</th>\n",
       "      <td>language__website</td>\n",
       "      <td>NaN</td>\n",
       "    </tr>\n",
       "    <tr>\n",
       "      <th>11</th>\n",
       "      <td>legal_name__website</td>\n",
       "      <td>NaN</td>\n",
       "    </tr>\n",
       "    <tr>\n",
       "      <th>12</th>\n",
       "      <td>phone__google</td>\n",
       "      <td>phone__google</td>\n",
       "    </tr>\n",
       "    <tr>\n",
       "      <th>13</th>\n",
       "      <td>phone__website</td>\n",
       "      <td>NaN</td>\n",
       "    </tr>\n",
       "    <tr>\n",
       "      <th>14</th>\n",
       "      <td>raw_address__google</td>\n",
       "      <td>raw_address__google</td>\n",
       "    </tr>\n",
       "    <tr>\n",
       "      <th>15</th>\n",
       "      <td>raw_phone__google</td>\n",
       "      <td>raw_phone__google</td>\n",
       "    </tr>\n",
       "    <tr>\n",
       "      <th>16</th>\n",
       "      <td>region_clean__google</td>\n",
       "      <td>region_clean__google</td>\n",
       "    </tr>\n",
       "    <tr>\n",
       "      <th>17</th>\n",
       "      <td>region_clean__website</td>\n",
       "      <td>NaN</td>\n",
       "    </tr>\n",
       "    <tr>\n",
       "      <th>18</th>\n",
       "      <td>root_domain__google</td>\n",
       "      <td>root_domain__google</td>\n",
       "    </tr>\n",
       "    <tr>\n",
       "      <th>19</th>\n",
       "      <td>root_domain__website</td>\n",
       "      <td>NaN</td>\n",
       "    </tr>\n",
       "    <tr>\n",
       "      <th>20</th>\n",
       "      <td>site_name_clean__google</td>\n",
       "      <td>site_name_clean__google</td>\n",
       "    </tr>\n",
       "    <tr>\n",
       "      <th>21</th>\n",
       "      <td>site_name_clean__website</td>\n",
       "      <td>NaN</td>\n",
       "    </tr>\n",
       "    <tr>\n",
       "      <th>22</th>\n",
       "      <td>zip_code__google</td>\n",
       "      <td>zip_code__google</td>\n",
       "    </tr>\n",
       "    <tr>\n",
       "      <th>23</th>\n",
       "      <td>NaN</td>\n",
       "      <td>address__facebook</td>\n",
       "    </tr>\n",
       "    <tr>\n",
       "      <th>24</th>\n",
       "      <td>NaN</td>\n",
       "      <td>category__facebook</td>\n",
       "    </tr>\n",
       "    <tr>\n",
       "      <th>25</th>\n",
       "      <td>NaN</td>\n",
       "      <td>city_clean__facebook</td>\n",
       "    </tr>\n",
       "    <tr>\n",
       "      <th>26</th>\n",
       "      <td>NaN</td>\n",
       "      <td>country_clean__facebook</td>\n",
       "    </tr>\n",
       "    <tr>\n",
       "      <th>27</th>\n",
       "      <td>NaN</td>\n",
       "      <td>description__facebook</td>\n",
       "    </tr>\n",
       "    <tr>\n",
       "      <th>28</th>\n",
       "      <td>NaN</td>\n",
       "      <td>email__facebook</td>\n",
       "    </tr>\n",
       "    <tr>\n",
       "      <th>29</th>\n",
       "      <td>NaN</td>\n",
       "      <td>index__facebook</td>\n",
       "    </tr>\n",
       "    <tr>\n",
       "      <th>30</th>\n",
       "      <td>NaN</td>\n",
       "      <td>link__facebook</td>\n",
       "    </tr>\n",
       "    <tr>\n",
       "      <th>31</th>\n",
       "      <td>NaN</td>\n",
       "      <td>page_type__facebook</td>\n",
       "    </tr>\n",
       "    <tr>\n",
       "      <th>32</th>\n",
       "      <td>NaN</td>\n",
       "      <td>phone__facebook</td>\n",
       "    </tr>\n",
       "    <tr>\n",
       "      <th>33</th>\n",
       "      <td>NaN</td>\n",
       "      <td>region_clean__facebook</td>\n",
       "    </tr>\n",
       "    <tr>\n",
       "      <th>34</th>\n",
       "      <td>NaN</td>\n",
       "      <td>root_domain__facebook</td>\n",
       "    </tr>\n",
       "    <tr>\n",
       "      <th>35</th>\n",
       "      <td>NaN</td>\n",
       "      <td>site_name_clean__facebook</td>\n",
       "    </tr>\n",
       "    <tr>\n",
       "      <th>36</th>\n",
       "      <td>NaN</td>\n",
       "      <td>zip_code__facebook</td>\n",
       "    </tr>\n",
       "  </tbody>\n",
       "</table>\n",
       "</div>"
      ],
      "text/plain": [
       "      google_website_matches    facebook_google_matches\n",
       "0            address__google            address__google\n",
       "1           category__google           category__google\n",
       "2          category__website                        NaN\n",
       "3         city_clean__google         city_clean__google\n",
       "4        city_clean__website                        NaN\n",
       "5      country_clean__google      country_clean__google\n",
       "6     country_clean__website                        NaN\n",
       "7        description__google        description__google\n",
       "8              index__google              index__google\n",
       "9             index__website                        NaN\n",
       "10         language__website                        NaN\n",
       "11       legal_name__website                        NaN\n",
       "12             phone__google              phone__google\n",
       "13            phone__website                        NaN\n",
       "14       raw_address__google        raw_address__google\n",
       "15         raw_phone__google          raw_phone__google\n",
       "16      region_clean__google       region_clean__google\n",
       "17     region_clean__website                        NaN\n",
       "18       root_domain__google        root_domain__google\n",
       "19      root_domain__website                        NaN\n",
       "20   site_name_clean__google    site_name_clean__google\n",
       "21  site_name_clean__website                        NaN\n",
       "22          zip_code__google           zip_code__google\n",
       "23                       NaN          address__facebook\n",
       "24                       NaN         category__facebook\n",
       "25                       NaN       city_clean__facebook\n",
       "26                       NaN    country_clean__facebook\n",
       "27                       NaN      description__facebook\n",
       "28                       NaN            email__facebook\n",
       "29                       NaN            index__facebook\n",
       "30                       NaN             link__facebook\n",
       "31                       NaN        page_type__facebook\n",
       "32                       NaN            phone__facebook\n",
       "33                       NaN     region_clean__facebook\n",
       "34                       NaN      root_domain__facebook\n",
       "35                       NaN  site_name_clean__facebook\n",
       "36                       NaN         zip_code__facebook"
      ]
     },
     "execution_count": 47,
     "metadata": {},
     "output_type": "execute_result"
    }
   ],
   "source": [
    "columns"
   ]
  },
  {
   "cell_type": "code",
   "execution_count": 74,
   "id": "8e36b483-f4e6-4451-a026-8470f9799790",
   "metadata": {},
   "outputs": [],
   "source": [
    "for _,row in columns.iterrows():\n",
    "    if pd.isna(row['google_website_matches']):\n",
    "        google_website_matches[row['facebook_google_matches']] = np.nan\n",
    "    elif pd.isna(row['facebook_google_matches']):\n",
    "        facebook_google_matches[row['google_website_matches']] = np.nan"
   ]
  },
  {
   "cell_type": "code",
   "execution_count": 75,
   "id": "58ad358b-6a6a-47a3-9b69-853ef99657ab",
   "metadata": {},
   "outputs": [],
   "source": [
    "google_website_matches = google_website_matches.reindex(sorted(google_website_matches.columns), axis=1)\n",
    "facebook_google_matches = facebook_google_matches.reindex(sorted(facebook_google_matches.columns), axis=1)\n",
    "matches_1 = pd.concat([google_website_matches, facebook_google_matches])"
   ]
  },
  {
   "cell_type": "code",
   "execution_count": 76,
   "id": "d281618c-29bd-45d9-9cd3-64a885efefb7",
   "metadata": {},
   "outputs": [
    {
     "data": {
      "text/plain": [
       "(4944, 37)"
      ]
     },
     "execution_count": 76,
     "metadata": {},
     "output_type": "execute_result"
    }
   ],
   "source": [
    "matches_1.shape"
   ]
  },
  {
   "cell_type": "code",
   "execution_count": 77,
   "id": "736f02df-90a8-4fec-803f-e83c0d7a903f",
   "metadata": {},
   "outputs": [],
   "source": [
    "with gcs.open('soleadify_sample_data/unified_matched_data/matches_1.csv','w') as f:\n",
    "    matches_1.to_csv(f,index = False, quotechar='\"', escapechar='\\\\')"
   ]
  },
  {
   "cell_type": "code",
   "execution_count": null,
   "id": "dfc9d4fd-d763-4085-86ec-f7bd036d2c6d",
   "metadata": {},
   "outputs": [],
   "source": [
    "file_paths = gcs.ls('soleadify_sample_data/facebook_website_matches')\n",
    "facebook_website_matches = pd.DataFrame()\n",
    "for index, file_path in enumerate(file_paths):\n",
    "    if file_path[-4:] == '.csv':\n",
    "        print(index)\n",
    "        with gcs.open(file_path) as f:\n",
    "            if file_path == 'soleadify_sample_data/facebook_website_matches/subset_of_matches_188.csv':\n",
    "                subset = pd.read_csv(f, quotechar='\"', escapechar='\\\\', skiprows = [29])\n",
    "            else:\n",
    "                subset = pd.read_csv(f, quotechar='\"', escapechar='\\\\')\n",
    "        subset = subset.reindex(sorted(subset.columns), axis=1)\n",
    "        facebook_website_matches = pd.concat([facebook_website_matches, subset])"
   ]
  },
  {
   "cell_type": "code",
   "execution_count": 92,
   "id": "fa065672-4cd3-4ca2-9b66-0748c33d77c3",
   "metadata": {},
   "outputs": [
    {
     "data": {
      "text/plain": [
       "Index(['address', 'categories', 'category_clean', 'city_clean__facebook',\n",
       "       'city_clean__website', 'country_clean__facebook',\n",
       "       'country_clean__website', 'description', 'domain_suffix', 'email',\n",
       "       'index__facebook', 'index__website', 'language', 'legal_name_clean',\n",
       "       'link', 'page_type', 'phone__facebook', 'phone__website',\n",
       "       'region_clean__facebook', 'region_clean__website', 'region_code',\n",
       "       'root_domain__facebook', 'root_domain__website', 'site_name',\n",
       "       'site_name_clean__facebook', 'site_name_clean__website', 'tld',\n",
       "       'zip_code'],\n",
       "      dtype='object')"
      ]
     },
     "execution_count": 92,
     "metadata": {},
     "output_type": "execute_result"
    }
   ],
   "source": [
    "facebook_website_matches.columns"
   ]
  },
  {
   "cell_type": "code",
   "execution_count": 99,
   "id": "669f6128-18b5-4d08-838c-a85be7a4f7d7",
   "metadata": {},
   "outputs": [],
   "source": [
    "renamers = {'categories':'category__facebook'\n",
    "            ,'address':'address__facebook'\n",
    "            ,'category_clean':'category__website'\n",
    "            ,'zip_code':'zip_code__facebook'\n",
    "           ,'description':'description__facebook'\n",
    "           ,'email':'email__facebook'\n",
    "           ,'link':'link__facebook'\n",
    "           ,'page_type':'page_type__facebook'\n",
    "            ,'legal_name_clean':'legal_name__website'\n",
    "            ,'language':'language__website'\n",
    "           }\n",
    "to_drop = ['domain_suffix','tld','region_code','site_name']\n",
    "facebook_website_matches = (facebook_website_matches\n",
    "                        .drop(to_drop, axis=1)\n",
    "                        .rename(columns = renamers)\n",
    "                          )"
   ]
  },
  {
   "cell_type": "code",
   "execution_count": 100,
   "id": "6f89425c-52f8-4c96-ae2b-5d576b03bf1d",
   "metadata": {},
   "outputs": [
    {
     "data": {
      "text/plain": [
       "(4944, 37)"
      ]
     },
     "execution_count": 100,
     "metadata": {},
     "output_type": "execute_result"
    }
   ],
   "source": [
    "matches_1.shape"
   ]
  },
  {
   "cell_type": "code",
   "execution_count": 101,
   "id": "579057e4-9f91-4860-9ad0-4ae8bad2b696",
   "metadata": {},
   "outputs": [],
   "source": [
    "cols_1 = list(matches_1)\n",
    "cols_1.sort()\n",
    "\n",
    "cols_2 = list(facebook_website_matches)\n",
    "cols_2.sort()\n",
    "\n",
    "cols_1_df = pd.Series(cols_1).rename('matches_1').to_frame()\n",
    "cols_2_df = pd.Series(cols_2).rename('facebook_website_matches').to_frame()\n",
    "columns = cols_1_df.merge(cols_2_df, how='outer', left_on='matches_1'\n",
    "                          , right_on='facebook_website_matches')"
   ]
  },
  {
   "cell_type": "code",
   "execution_count": 102,
   "id": "3718f5f6-5317-465a-81c7-ab21029b2853",
   "metadata": {},
   "outputs": [
    {
     "data": {
      "text/html": [
       "<div>\n",
       "<style scoped>\n",
       "    .dataframe tbody tr th:only-of-type {\n",
       "        vertical-align: middle;\n",
       "    }\n",
       "\n",
       "    .dataframe tbody tr th {\n",
       "        vertical-align: top;\n",
       "    }\n",
       "\n",
       "    .dataframe thead th {\n",
       "        text-align: right;\n",
       "    }\n",
       "</style>\n",
       "<table border=\"1\" class=\"dataframe\">\n",
       "  <thead>\n",
       "    <tr style=\"text-align: right;\">\n",
       "      <th></th>\n",
       "      <th>matches_1</th>\n",
       "      <th>facebook_website_matches</th>\n",
       "    </tr>\n",
       "  </thead>\n",
       "  <tbody>\n",
       "    <tr>\n",
       "      <th>0</th>\n",
       "      <td>address__facebook</td>\n",
       "      <td>address__facebook</td>\n",
       "    </tr>\n",
       "    <tr>\n",
       "      <th>1</th>\n",
       "      <td>address__google</td>\n",
       "      <td>NaN</td>\n",
       "    </tr>\n",
       "    <tr>\n",
       "      <th>2</th>\n",
       "      <td>category__facebook</td>\n",
       "      <td>category__facebook</td>\n",
       "    </tr>\n",
       "    <tr>\n",
       "      <th>3</th>\n",
       "      <td>category__google</td>\n",
       "      <td>NaN</td>\n",
       "    </tr>\n",
       "    <tr>\n",
       "      <th>4</th>\n",
       "      <td>category__website</td>\n",
       "      <td>category__website</td>\n",
       "    </tr>\n",
       "    <tr>\n",
       "      <th>5</th>\n",
       "      <td>city_clean__facebook</td>\n",
       "      <td>city_clean__facebook</td>\n",
       "    </tr>\n",
       "    <tr>\n",
       "      <th>6</th>\n",
       "      <td>city_clean__google</td>\n",
       "      <td>NaN</td>\n",
       "    </tr>\n",
       "    <tr>\n",
       "      <th>7</th>\n",
       "      <td>city_clean__website</td>\n",
       "      <td>city_clean__website</td>\n",
       "    </tr>\n",
       "    <tr>\n",
       "      <th>8</th>\n",
       "      <td>country_clean__facebook</td>\n",
       "      <td>country_clean__facebook</td>\n",
       "    </tr>\n",
       "    <tr>\n",
       "      <th>9</th>\n",
       "      <td>country_clean__google</td>\n",
       "      <td>NaN</td>\n",
       "    </tr>\n",
       "    <tr>\n",
       "      <th>10</th>\n",
       "      <td>country_clean__website</td>\n",
       "      <td>country_clean__website</td>\n",
       "    </tr>\n",
       "    <tr>\n",
       "      <th>11</th>\n",
       "      <td>description__facebook</td>\n",
       "      <td>description__facebook</td>\n",
       "    </tr>\n",
       "    <tr>\n",
       "      <th>12</th>\n",
       "      <td>description__google</td>\n",
       "      <td>NaN</td>\n",
       "    </tr>\n",
       "    <tr>\n",
       "      <th>13</th>\n",
       "      <td>email__facebook</td>\n",
       "      <td>email__facebook</td>\n",
       "    </tr>\n",
       "    <tr>\n",
       "      <th>14</th>\n",
       "      <td>index__facebook</td>\n",
       "      <td>index__facebook</td>\n",
       "    </tr>\n",
       "    <tr>\n",
       "      <th>15</th>\n",
       "      <td>index__google</td>\n",
       "      <td>NaN</td>\n",
       "    </tr>\n",
       "    <tr>\n",
       "      <th>16</th>\n",
       "      <td>index__website</td>\n",
       "      <td>index__website</td>\n",
       "    </tr>\n",
       "    <tr>\n",
       "      <th>17</th>\n",
       "      <td>language__website</td>\n",
       "      <td>language__website</td>\n",
       "    </tr>\n",
       "    <tr>\n",
       "      <th>18</th>\n",
       "      <td>legal_name__website</td>\n",
       "      <td>legal_name__website</td>\n",
       "    </tr>\n",
       "    <tr>\n",
       "      <th>19</th>\n",
       "      <td>link__facebook</td>\n",
       "      <td>link__facebook</td>\n",
       "    </tr>\n",
       "    <tr>\n",
       "      <th>20</th>\n",
       "      <td>page_type__facebook</td>\n",
       "      <td>page_type__facebook</td>\n",
       "    </tr>\n",
       "    <tr>\n",
       "      <th>21</th>\n",
       "      <td>phone__facebook</td>\n",
       "      <td>phone__facebook</td>\n",
       "    </tr>\n",
       "    <tr>\n",
       "      <th>22</th>\n",
       "      <td>phone__google</td>\n",
       "      <td>NaN</td>\n",
       "    </tr>\n",
       "    <tr>\n",
       "      <th>23</th>\n",
       "      <td>phone__website</td>\n",
       "      <td>phone__website</td>\n",
       "    </tr>\n",
       "    <tr>\n",
       "      <th>24</th>\n",
       "      <td>raw_address__google</td>\n",
       "      <td>NaN</td>\n",
       "    </tr>\n",
       "    <tr>\n",
       "      <th>25</th>\n",
       "      <td>raw_phone__google</td>\n",
       "      <td>NaN</td>\n",
       "    </tr>\n",
       "    <tr>\n",
       "      <th>26</th>\n",
       "      <td>region_clean__facebook</td>\n",
       "      <td>region_clean__facebook</td>\n",
       "    </tr>\n",
       "    <tr>\n",
       "      <th>27</th>\n",
       "      <td>region_clean__google</td>\n",
       "      <td>NaN</td>\n",
       "    </tr>\n",
       "    <tr>\n",
       "      <th>28</th>\n",
       "      <td>region_clean__website</td>\n",
       "      <td>region_clean__website</td>\n",
       "    </tr>\n",
       "    <tr>\n",
       "      <th>29</th>\n",
       "      <td>root_domain__facebook</td>\n",
       "      <td>root_domain__facebook</td>\n",
       "    </tr>\n",
       "    <tr>\n",
       "      <th>30</th>\n",
       "      <td>root_domain__google</td>\n",
       "      <td>NaN</td>\n",
       "    </tr>\n",
       "    <tr>\n",
       "      <th>31</th>\n",
       "      <td>root_domain__website</td>\n",
       "      <td>root_domain__website</td>\n",
       "    </tr>\n",
       "    <tr>\n",
       "      <th>32</th>\n",
       "      <td>site_name_clean__facebook</td>\n",
       "      <td>site_name_clean__facebook</td>\n",
       "    </tr>\n",
       "    <tr>\n",
       "      <th>33</th>\n",
       "      <td>site_name_clean__google</td>\n",
       "      <td>NaN</td>\n",
       "    </tr>\n",
       "    <tr>\n",
       "      <th>34</th>\n",
       "      <td>site_name_clean__website</td>\n",
       "      <td>site_name_clean__website</td>\n",
       "    </tr>\n",
       "    <tr>\n",
       "      <th>35</th>\n",
       "      <td>zip_code__facebook</td>\n",
       "      <td>zip_code__facebook</td>\n",
       "    </tr>\n",
       "    <tr>\n",
       "      <th>36</th>\n",
       "      <td>zip_code__google</td>\n",
       "      <td>NaN</td>\n",
       "    </tr>\n",
       "  </tbody>\n",
       "</table>\n",
       "</div>"
      ],
      "text/plain": [
       "                    matches_1   facebook_website_matches\n",
       "0           address__facebook          address__facebook\n",
       "1             address__google                        NaN\n",
       "2          category__facebook         category__facebook\n",
       "3            category__google                        NaN\n",
       "4           category__website          category__website\n",
       "5        city_clean__facebook       city_clean__facebook\n",
       "6          city_clean__google                        NaN\n",
       "7         city_clean__website        city_clean__website\n",
       "8     country_clean__facebook    country_clean__facebook\n",
       "9       country_clean__google                        NaN\n",
       "10     country_clean__website     country_clean__website\n",
       "11      description__facebook      description__facebook\n",
       "12        description__google                        NaN\n",
       "13            email__facebook            email__facebook\n",
       "14            index__facebook            index__facebook\n",
       "15              index__google                        NaN\n",
       "16             index__website             index__website\n",
       "17          language__website          language__website\n",
       "18        legal_name__website        legal_name__website\n",
       "19             link__facebook             link__facebook\n",
       "20        page_type__facebook        page_type__facebook\n",
       "21            phone__facebook            phone__facebook\n",
       "22              phone__google                        NaN\n",
       "23             phone__website             phone__website\n",
       "24        raw_address__google                        NaN\n",
       "25          raw_phone__google                        NaN\n",
       "26     region_clean__facebook     region_clean__facebook\n",
       "27       region_clean__google                        NaN\n",
       "28      region_clean__website      region_clean__website\n",
       "29      root_domain__facebook      root_domain__facebook\n",
       "30        root_domain__google                        NaN\n",
       "31       root_domain__website       root_domain__website\n",
       "32  site_name_clean__facebook  site_name_clean__facebook\n",
       "33    site_name_clean__google                        NaN\n",
       "34   site_name_clean__website   site_name_clean__website\n",
       "35         zip_code__facebook         zip_code__facebook\n",
       "36           zip_code__google                        NaN"
      ]
     },
     "execution_count": 102,
     "metadata": {},
     "output_type": "execute_result"
    }
   ],
   "source": [
    "columns"
   ]
  },
  {
   "cell_type": "code",
   "execution_count": 103,
   "id": "1ddc13e2-bd90-4510-8482-784d21b9abb3",
   "metadata": {},
   "outputs": [],
   "source": [
    "for _,row in columns.iterrows():\n",
    "    if pd.isna(row['matches_1']):\n",
    "        matches_1[row['facebook_website_matches']] = np.nan\n",
    "    elif pd.isna(row['facebook_website_matches']):\n",
    "        facebook_website_matches[row['matches_1']] = np.nan"
   ]
  },
  {
   "cell_type": "code",
   "execution_count": 104,
   "id": "32f6b741-975e-4445-b70c-f5facf778788",
   "metadata": {},
   "outputs": [],
   "source": [
    "matches_1 = matches_1.reindex(sorted(matches_1.columns), axis=1)\n",
    "facebook_website_matches = facebook_website_matches.reindex(sorted(facebook_website_matches.columns), axis=1)\n",
    "matches_full = pd.concat([matches_1, facebook_website_matches])"
   ]
  },
  {
   "cell_type": "code",
   "execution_count": 105,
   "id": "cd9c6bde-9ea8-4b90-a6db-9e642250685d",
   "metadata": {},
   "outputs": [
    {
     "data": {
      "text/plain": [
       "(29761, 37)"
      ]
     },
     "execution_count": 105,
     "metadata": {},
     "output_type": "execute_result"
    }
   ],
   "source": [
    "matches_full.shape"
   ]
  },
  {
   "cell_type": "code",
   "execution_count": 106,
   "id": "167337ce-5dae-4631-98c3-c3b5d12b1fe9",
   "metadata": {},
   "outputs": [],
   "source": [
    "with gcs.open('soleadify_sample_data/unified_matched_data/matches_full.csv','w') as f:\n",
    "    matches_full.to_csv(f,index = False, quotechar='\"', escapechar='\\\\')"
   ]
  }
 ],
 "metadata": {
  "environment": {
   "kernel": "python3",
   "name": "common-cpu.m87",
   "type": "gcloud",
   "uri": "gcr.io/deeplearning-platform-release/base-cpu:m87"
  },
  "kernelspec": {
   "display_name": "Python 3",
   "language": "python",
   "name": "python3"
  },
  "language_info": {
   "codemirror_mode": {
    "name": "ipython",
    "version": 3
   },
   "file_extension": ".py",
   "mimetype": "text/x-python",
   "name": "python",
   "nbconvert_exporter": "python",
   "pygments_lexer": "ipython3",
   "version": "3.7.12"
  }
 },
 "nbformat": 4,
 "nbformat_minor": 5
}
