{
 "cells": [
  {
   "cell_type": "code",
   "execution_count": 1,
   "id": "46ac9968-5609-4bbe-ad8e-fe6570acd338",
   "metadata": {},
   "outputs": [
    {
     "name": "stdout",
     "output_type": "stream",
     "text": [
      "Requirement already satisfied: recordlinkage in /opt/conda/lib/python3.7/site-packages (0.14)\n",
      "Requirement already satisfied: pandas>=0.23 in /opt/conda/lib/python3.7/site-packages (from recordlinkage) (1.3.5)\n",
      "Requirement already satisfied: joblib in /opt/conda/lib/python3.7/site-packages (from recordlinkage) (1.0.1)\n",
      "Requirement already satisfied: scikit-learn>=0.19.0 in /opt/conda/lib/python3.7/site-packages (from recordlinkage) (1.0.1)\n",
      "Requirement already satisfied: jellyfish>=0.5.4 in /opt/conda/lib/python3.7/site-packages (from recordlinkage) (0.8.9)\n",
      "Requirement already satisfied: scipy>=1 in /opt/conda/lib/python3.7/site-packages (from recordlinkage) (1.7.3)\n",
      "Requirement already satisfied: numpy>=1.13.0 in /opt/conda/lib/python3.7/site-packages (from recordlinkage) (1.19.5)\n",
      "Requirement already satisfied: python-dateutil>=2.7.3 in /opt/conda/lib/python3.7/site-packages (from pandas>=0.23->recordlinkage) (2.8.2)\n",
      "Requirement already satisfied: pytz>=2017.3 in /opt/conda/lib/python3.7/site-packages (from pandas>=0.23->recordlinkage) (2021.3)\n",
      "Requirement already satisfied: threadpoolctl>=2.0.0 in /opt/conda/lib/python3.7/site-packages (from scikit-learn>=0.19.0->recordlinkage) (3.0.0)\n",
      "Requirement already satisfied: six>=1.5 in /opt/conda/lib/python3.7/site-packages (from python-dateutil>=2.7.3->pandas>=0.23->recordlinkage) (1.16.0)\n",
      "Requirement already satisfied: fsspec in /opt/conda/lib/python3.7/site-packages (2021.11.1)\n",
      "Requirement already satisfied: gcsfs in /opt/conda/lib/python3.7/site-packages (2021.11.1)\n",
      "Requirement already satisfied: google-cloud-storage in /opt/conda/lib/python3.7/site-packages (from gcsfs) (1.43.0)\n",
      "Requirement already satisfied: aiohttp<4 in /opt/conda/lib/python3.7/site-packages (from gcsfs) (3.8.1)\n",
      "Requirement already satisfied: google-auth-oauthlib in /opt/conda/lib/python3.7/site-packages (from gcsfs) (0.4.6)\n",
      "Requirement already satisfied: google-auth>=1.2 in /opt/conda/lib/python3.7/site-packages (from gcsfs) (2.3.3)\n",
      "Requirement already satisfied: requests in /opt/conda/lib/python3.7/site-packages (from gcsfs) (2.26.0)\n",
      "Requirement already satisfied: decorator>4.1.2 in /opt/conda/lib/python3.7/site-packages (from gcsfs) (5.1.0)\n",
      "Requirement already satisfied: fsspec==2021.11.1 in /opt/conda/lib/python3.7/site-packages (from gcsfs) (2021.11.1)\n",
      "Requirement already satisfied: attrs>=17.3.0 in /opt/conda/lib/python3.7/site-packages (from aiohttp<4->gcsfs) (21.2.0)\n",
      "Requirement already satisfied: typing-extensions>=3.7.4 in /opt/conda/lib/python3.7/site-packages (from aiohttp<4->gcsfs) (4.0.1)\n",
      "Requirement already satisfied: asynctest==0.13.0 in /opt/conda/lib/python3.7/site-packages (from aiohttp<4->gcsfs) (0.13.0)\n",
      "Requirement already satisfied: aiosignal>=1.1.2 in /opt/conda/lib/python3.7/site-packages (from aiohttp<4->gcsfs) (1.2.0)\n",
      "Requirement already satisfied: yarl<2.0,>=1.0 in /opt/conda/lib/python3.7/site-packages (from aiohttp<4->gcsfs) (1.7.2)\n",
      "Requirement already satisfied: multidict<7.0,>=4.5 in /opt/conda/lib/python3.7/site-packages (from aiohttp<4->gcsfs) (5.2.0)\n",
      "Requirement already satisfied: async-timeout<5.0,>=4.0.0a3 in /opt/conda/lib/python3.7/site-packages (from aiohttp<4->gcsfs) (4.0.1)\n",
      "Requirement already satisfied: charset-normalizer<3.0,>=2.0 in /opt/conda/lib/python3.7/site-packages (from aiohttp<4->gcsfs) (2.0.9)\n",
      "Requirement already satisfied: frozenlist>=1.1.1 in /opt/conda/lib/python3.7/site-packages (from aiohttp<4->gcsfs) (1.2.0)\n",
      "Requirement already satisfied: six>=1.9.0 in /opt/conda/lib/python3.7/site-packages (from google-auth>=1.2->gcsfs) (1.16.0)\n",
      "Requirement already satisfied: cachetools<5.0,>=2.0.0 in /opt/conda/lib/python3.7/site-packages (from google-auth>=1.2->gcsfs) (4.2.4)\n",
      "Requirement already satisfied: setuptools>=40.3.0 in /opt/conda/lib/python3.7/site-packages (from google-auth>=1.2->gcsfs) (59.6.0)\n",
      "Requirement already satisfied: rsa<5,>=3.1.4 in /opt/conda/lib/python3.7/site-packages (from google-auth>=1.2->gcsfs) (4.8)\n",
      "Requirement already satisfied: pyasn1-modules>=0.2.1 in /opt/conda/lib/python3.7/site-packages (from google-auth>=1.2->gcsfs) (0.2.7)\n",
      "Requirement already satisfied: requests-oauthlib>=0.7.0 in /opt/conda/lib/python3.7/site-packages (from google-auth-oauthlib->gcsfs) (1.3.0)\n",
      "Requirement already satisfied: google-cloud-core<3.0dev,>=1.6.0 in /opt/conda/lib/python3.7/site-packages (from google-cloud-storage->gcsfs) (2.2.1)\n",
      "Requirement already satisfied: google-resumable-media<3.0dev,>=1.3.0 in /opt/conda/lib/python3.7/site-packages (from google-cloud-storage->gcsfs) (2.1.0)\n",
      "Requirement already satisfied: google-api-core<3.0dev,>=1.29.0 in /opt/conda/lib/python3.7/site-packages (from google-cloud-storage->gcsfs) (2.3.2)\n",
      "Requirement already satisfied: protobuf in /opt/conda/lib/python3.7/site-packages (from google-cloud-storage->gcsfs) (3.19.1)\n",
      "Requirement already satisfied: idna<4,>=2.5 in /opt/conda/lib/python3.7/site-packages (from requests->gcsfs) (3.1)\n",
      "Requirement already satisfied: urllib3<1.27,>=1.21.1 in /opt/conda/lib/python3.7/site-packages (from requests->gcsfs) (1.26.7)\n",
      "Requirement already satisfied: certifi>=2017.4.17 in /opt/conda/lib/python3.7/site-packages (from requests->gcsfs) (2021.10.8)\n",
      "Requirement already satisfied: googleapis-common-protos<2.0dev,>=1.52.0 in /opt/conda/lib/python3.7/site-packages (from google-api-core<3.0dev,>=1.29.0->google-cloud-storage->gcsfs) (1.53.0)\n",
      "Requirement already satisfied: google-crc32c<2.0dev,>=1.0 in /opt/conda/lib/python3.7/site-packages (from google-resumable-media<3.0dev,>=1.3.0->google-cloud-storage->gcsfs) (1.1.2)\n",
      "Requirement already satisfied: pyasn1<0.5.0,>=0.4.6 in /opt/conda/lib/python3.7/site-packages (from pyasn1-modules>=0.2.1->google-auth>=1.2->gcsfs) (0.4.8)\n",
      "Requirement already satisfied: oauthlib>=3.0.0 in /opt/conda/lib/python3.7/site-packages (from requests-oauthlib>=0.7.0->google-auth-oauthlib->gcsfs) (3.1.1)\n",
      "Requirement already satisfied: cffi>=1.0.0 in /opt/conda/lib/python3.7/site-packages (from google-crc32c<2.0dev,>=1.0->google-resumable-media<3.0dev,>=1.3.0->google-cloud-storage->gcsfs) (1.15.0)\n",
      "Requirement already satisfied: pycparser in /opt/conda/lib/python3.7/site-packages (from cffi>=1.0.0->google-crc32c<2.0dev,>=1.0->google-resumable-media<3.0dev,>=1.3.0->google-cloud-storage->gcsfs) (2.21)\n"
     ]
    }
   ],
   "source": [
    "! pip install recordlinkage\n",
    "! pip install fsspec\n",
    "! pip install gcsfs"
   ]
  },
  {
   "cell_type": "code",
   "execution_count": 1,
   "id": "97c08a66-50ad-43f1-b2b3-c8512ffb85c2",
   "metadata": {},
   "outputs": [],
   "source": [
    "import pandas as pd\n",
    "import gcsfs\n",
    "import recordlinkage as rl"
   ]
  },
  {
   "cell_type": "code",
   "execution_count": 2,
   "id": "42fb2d5d-89b4-40aa-b6ee-8962c265f112",
   "metadata": {},
   "outputs": [],
   "source": [
    "from gcsfs.core import GCSFileSystem\n",
    "gcs = GCSFileSystem('courseradataeng', token='/home/jupyter/.config/gcloud/application_default_credentials.json') "
   ]
  },
  {
   "cell_type": "code",
   "execution_count": 3,
   "id": "f04ffc8f-a7d9-4dca-824f-7bc1d8aa94ac",
   "metadata": {},
   "outputs": [],
   "source": [
    "with gcs.open('soleadify_sample_data/website_dataset_clean.csv') as f:\n",
    "    website_dataset_clean = pd.read_csv(f)\n"
   ]
  },
  {
   "cell_type": "code",
   "execution_count": 4,
   "id": "51b44f29-d3bd-453d-b194-b470bab7a9b4",
   "metadata": {},
   "outputs": [],
   "source": [
    "with gcs.open('soleadify_sample_data/facebook_dataset_clean.csv') as f:\n",
    "    facebook_dataset_clean = (pd.read_csv(f , quotechar='\"', escapechar='\\\\')\n",
    "                                .drop('Unnamed: 0',axis=1)\n",
    "                                .rename(columns={'country_final':'country_clean'\n",
    "                                        ,'region_consistent':'region_clean'\n",
    "                                       ,'city_consistent':'city_clean'\n",
    "                                       ,'domain':'root_domain'\n",
    "                                       ,'name':'site_name_clean'}\n",
    "                                       )\n",
    "                             )"
   ]
  },
  {
   "cell_type": "code",
   "execution_count": 5,
   "id": "06a553de-dea8-48f4-9360-ab6c09f0862d",
   "metadata": {},
   "outputs": [],
   "source": [
    "indexes={'block':['country_clean','region_clean','city_clean']\n",
    "        ,'sorted_neighbour':['root_domain','site_name_clean']\n",
    "        }"
   ]
  },
  {
   "cell_type": "code",
   "execution_count": 31,
   "id": "3c3b374c-d4fa-48f3-ac31-28276ceace54",
   "metadata": {},
   "outputs": [
    {
     "data": {
      "text/plain": [
       "['country_clean', 'region_clean', 'city_clean']"
      ]
     },
     "execution_count": 31,
     "metadata": {},
     "output_type": "execute_result"
    }
   ],
   "source": [
    "indexes['block']"
   ]
  },
  {
   "cell_type": "code",
   "execution_count": 36,
   "id": "531dc099-96ea-4727-899d-5c481c3ce304",
   "metadata": {},
   "outputs": [
    {
     "data": {
      "text/plain": [
       "country_clean   region_clean  city_clean \n",
       "Canada          Ontario       Toronto        2713\n",
       "                Alberta       Calgary        2529\n",
       "                              Edmonton       1788\n",
       "                Ontario       Mississauga    1580\n",
       "                              Ottawa          814\n",
       "                                             ... \n",
       "United Kingdom  England       Shirley           1\n",
       "Canada          Manitoba      Carberry          1\n",
       "United Kingdom  England       Sheerness         1\n",
       "Canada          Manitoba      Carman            1\n",
       "Turkey          Samsun        Unkapani          1\n",
       "Length: 7268, dtype: int64"
      ]
     },
     "execution_count": 36,
     "metadata": {},
     "output_type": "execute_result"
    }
   ],
   "source": [
    "facebook_dataset_clean[indexes['block']].value_counts()"
   ]
  },
  {
   "cell_type": "code",
   "execution_count": 37,
   "id": "2f49b614-c59b-4667-b394-ddffa1e7acd8",
   "metadata": {},
   "outputs": [
    {
     "data": {
      "text/plain": [
       "country_clean  region_clean  city_clean      \n",
       "Canada         Ontario       Toronto             3292\n",
       "               Alberta       Calgary             2764\n",
       "                             Edmonton            1901\n",
       "               Ontario       Mississauga         1535\n",
       "                             Ottawa               976\n",
       "                                                 ... \n",
       "Turkey         Manisa        Akhisar                1\n",
       "Canada         Ontario       Lambton (Forest)       1\n",
       "                             Lappe                  1\n",
       "Turkey         Konya         Cumra                  1\n",
       "United States  Colorado      Fort Morgan            1\n",
       "Length: 10833, dtype: int64"
      ]
     },
     "execution_count": 37,
     "metadata": {},
     "output_type": "execute_result"
    }
   ],
   "source": [
    "website_dataset_clean[indexes['block']].value_counts()"
   ]
  },
  {
   "cell_type": "code",
   "execution_count": 18,
   "id": "4d40b073-8ff2-4f5d-b34f-fe76105f6a9f",
   "metadata": {},
   "outputs": [
    {
     "data": {
      "text/plain": [
       "count      64834\n",
       "unique       181\n",
       "top       Canada\n",
       "freq       39779\n",
       "Name: country_clean, dtype: object"
      ]
     },
     "execution_count": 18,
     "metadata": {},
     "output_type": "execute_result"
    }
   ],
   "source": [
    "website_dataset_clean['country_clean'].describe()"
   ]
  },
  {
   "cell_type": "markdown",
   "id": "e5dff754-3952-4f5f-b6fc-f1aecc163da7",
   "metadata": {},
   "source": [
    "There is missing data in terms of country in both datasets.\n",
    "Also there are a lot of countries with just a few entries.\n",
    "I will move these into 2 separate datasets - Country not available and Low Frequency"
   ]
  },
  {
   "cell_type": "code",
   "execution_count": 38,
   "id": "b7885efd-acf3-4414-8b83-e554119dfb6c",
   "metadata": {},
   "outputs": [],
   "source": [
    "facebook_country_high_frequency = facebook_dataset_clean.groupby('country_clean').filter(lambda g: len(g)>=10)\n",
    "\n",
    "website_country_high_frequency = website_dataset_clean.groupby('country_clean').filter(lambda g: len(g)>=10)\n",
    "\n",
    "countries = pd.concat([facebook_country_high_frequency['country_clean']\n",
    "                       ,website_country_high_frequency['country_clean']]\n",
    "                     ).unique()"
   ]
  },
  {
   "cell_type": "code",
   "execution_count": 9,
   "id": "59a4eba9-8991-4d14-843a-cf6e90998417",
   "metadata": {},
   "outputs": [
    {
     "data": {
      "text/html": [
       "<div>\n",
       "<style scoped>\n",
       "    .dataframe tbody tr th:only-of-type {\n",
       "        vertical-align: middle;\n",
       "    }\n",
       "\n",
       "    .dataframe tbody tr th {\n",
       "        vertical-align: top;\n",
       "    }\n",
       "\n",
       "    .dataframe thead th {\n",
       "        text-align: right;\n",
       "    }\n",
       "</style>\n",
       "<table border=\"1\" class=\"dataframe\">\n",
       "  <thead>\n",
       "    <tr style=\"text-align: right;\">\n",
       "      <th></th>\n",
       "      <th>country_clean</th>\n",
       "      <th>region_clean</th>\n",
       "      <th>city_clean</th>\n",
       "    </tr>\n",
       "  </thead>\n",
       "  <tbody>\n",
       "    <tr>\n",
       "      <th>0</th>\n",
       "      <td>France</td>\n",
       "      <td>Occitanie</td>\n",
       "      <td>Calvisson</td>\n",
       "    </tr>\n",
       "    <tr>\n",
       "      <th>3</th>\n",
       "      <td>Canada</td>\n",
       "      <td>British Columbia</td>\n",
       "      <td>Vancouver</td>\n",
       "    </tr>\n",
       "    <tr>\n",
       "      <th>4</th>\n",
       "      <td>Canada</td>\n",
       "      <td>Manitoba</td>\n",
       "      <td>Winnipeg</td>\n",
       "    </tr>\n",
       "    <tr>\n",
       "      <th>6</th>\n",
       "      <td>Canada</td>\n",
       "      <td>Ontario</td>\n",
       "      <td>Port Dover</td>\n",
       "    </tr>\n",
       "    <tr>\n",
       "      <th>10</th>\n",
       "      <td>Australia</td>\n",
       "      <td>Victoria</td>\n",
       "      <td>Eltham</td>\n",
       "    </tr>\n",
       "  </tbody>\n",
       "</table>\n",
       "</div>"
      ],
      "text/plain": [
       "   country_clean      region_clean  city_clean\n",
       "0         France         Occitanie   Calvisson\n",
       "3         Canada  British Columbia   Vancouver\n",
       "4         Canada          Manitoba    Winnipeg\n",
       "6         Canada           Ontario  Port Dover\n",
       "10     Australia          Victoria      Eltham"
      ]
     },
     "execution_count": 9,
     "metadata": {},
     "output_type": "execute_result"
    }
   ],
   "source": [
    "combinations = (pd.concat([facebook_dataset_clean[indexes['block']]\n",
    "                          , website_dataset_clean[indexes['block']]])\n",
    "                .drop_duplicates()\n",
    "                .dropna()\n",
    "               )\n",
    "\n",
    "combinations.head()"
   ]
  },
  {
   "cell_type": "code",
   "execution_count": 60,
   "id": "5505c668-bba0-4c46-a1fe-e34775dc6694",
   "metadata": {},
   "outputs": [],
   "source": [
    "country = 'Canada'\n",
    "region = 'Ontario'\n",
    "city = 'Toronto'\n",
    "\n",
    "facebook_subset = (facebook_dataset_clean\n",
    "                .query('''country_clean == @country \\\n",
    "                & region_clean == @region \\\n",
    "                & city_clean == @city \\\n",
    "                & root_domain.notna() \\\n",
    "                & site_name_clean.notna() \\\n",
    "                ''')\n",
    "                  )\n",
    "website_subset = (website_dataset_clean\n",
    "                .query('''country_clean == @country \\\n",
    "                & region_clean == @region \\\n",
    "                & city_clean == @city \\\n",
    "                & root_domain.notna() \\\n",
    "                & site_name_clean.notna() \\\n",
    "                ''')\n",
    "                 )\n",
    "\n",
    "counts = {'facebook':facebook_subset.shape[0]\n",
    "          , 'website':website_subset.shape[0]}\n",
    "\n",
    "if counts['facebook']> counts['website']:\n",
    "    datasets = {'left':{'origin':'facebook','data':facebook_subset.copy(deep = True)}\n",
    "               ,'right':{'origin':'website','data':website_subset.copy(deep = True)}\n",
    "               }\n",
    "\n",
    "else:\n",
    "    datasets = {'left':{'origin':'website','data':website_subset.copy(deep = True)}\n",
    "               ,'right':{'origin':'facebook','data':facebook_subset.copy(deep = True)}\n",
    "               }"
   ]
  },
  {
   "cell_type": "code",
   "execution_count": 61,
   "id": "4fd3654d-c93f-4c8a-a6cf-d13e256fa1c2",
   "metadata": {},
   "outputs": [],
   "source": [
    "indexer = rl.Index()\n",
    "for column in indexes['sorted_neighbour']:\n",
    "    indexer.add(rl.index.SortedNeighbourhood(left_on = column\n",
    "                                         , right_on = column\n",
    "                                         , window = 3))\n",
    "combined_index = indexer.index(datasets['left']['data'], datasets['right']['data'])"
   ]
  },
  {
   "cell_type": "code",
   "execution_count": 62,
   "id": "99dd4ecd-f9f0-4daf-abc3-2b3b400a3e8f",
   "metadata": {},
   "outputs": [],
   "source": [
    "combined_index_unqiue = combined_index.drop_duplicates(keep='first')"
   ]
  },
  {
   "cell_type": "code",
   "execution_count": 63,
   "id": "58af0162-5254-4c92-bec3-cc0d8aead0f0",
   "metadata": {},
   "outputs": [],
   "source": [
    "compare = rl.Compare(n_jobs = -1)\n",
    "for column in indexes['sorted_neighbour']:\n",
    "    compare.string(column, column, method = 'jarowinkler', label = column+'_similarity_score', threshold=0.85)\n",
    "\n",
    "comparison_vectors = compare.compute(combined_index_unqiue, datasets['left']['data'], datasets['right']['data'])"
   ]
  },
  {
   "cell_type": "code",
   "execution_count": null,
   "id": "1c2fb047-0ff7-4414-b604-2196a842ddda",
   "metadata": {},
   "outputs": [],
   "source": []
  },
  {
   "cell_type": "code",
   "execution_count": 71,
   "id": "5dc53b3d-7f11-47f8-9042-b94769e2f36a",
   "metadata": {},
   "outputs": [],
   "source": [
    "true_links = comparison_vectors.query('root_domain_similarity_score == 1.0 & site_name_clean_similarity_score == 1.0').index\n",
    "match_left = (datasets['left']['data']\n",
    "            .loc[list(true_links.get_level_values(0))]\n",
    "            .reset_index()\n",
    "             )\n",
    "match_right = (datasets['right']['data']\n",
    "            .loc[list(true_links.get_level_values(1))]\n",
    "            .reset_index()\n",
    "        )"
   ]
  },
  {
   "cell_type": "code",
   "execution_count": 74,
   "id": "83ccc42e-10e8-4522-945f-93ce06c47f59",
   "metadata": {},
   "outputs": [],
   "source": [
    "subset_of_matches = match_left.join(match_right, lsuffix =  '__'+datasets['left']['origin']\n",
    "                          , rsuffix = '__'+datasets['right']['origin'])"
   ]
  },
  {
   "cell_type": "code",
   "execution_count": 75,
   "id": "46f93960-6238-4c04-bd4c-773363b51343",
   "metadata": {},
   "outputs": [
    {
     "data": {
      "text/html": [
       "<div>\n",
       "<style scoped>\n",
       "    .dataframe tbody tr th:only-of-type {\n",
       "        vertical-align: middle;\n",
       "    }\n",
       "\n",
       "    .dataframe tbody tr th {\n",
       "        vertical-align: top;\n",
       "    }\n",
       "\n",
       "    .dataframe thead th {\n",
       "        text-align: right;\n",
       "    }\n",
       "</style>\n",
       "<table border=\"1\" class=\"dataframe\">\n",
       "  <thead>\n",
       "    <tr style=\"text-align: right;\">\n",
       "      <th></th>\n",
       "      <th>index__website</th>\n",
       "      <th>root_domain__website</th>\n",
       "      <th>domain_suffix</th>\n",
       "      <th>language</th>\n",
       "      <th>phone__website</th>\n",
       "      <th>site_name</th>\n",
       "      <th>tld</th>\n",
       "      <th>site_name_clean__website</th>\n",
       "      <th>category_clean</th>\n",
       "      <th>legal_name_clean</th>\n",
       "      <th>...</th>\n",
       "      <th>email</th>\n",
       "      <th>link</th>\n",
       "      <th>site_name_clean__facebook</th>\n",
       "      <th>page_type</th>\n",
       "      <th>phone__facebook</th>\n",
       "      <th>region_code</th>\n",
       "      <th>zip_code</th>\n",
       "      <th>country_clean__facebook</th>\n",
       "      <th>city_clean__facebook</th>\n",
       "      <th>region_clean__facebook</th>\n",
       "    </tr>\n",
       "  </thead>\n",
       "  <tbody>\n",
       "    <tr>\n",
       "      <th>0</th>\n",
       "      <td>9</td>\n",
       "      <td>micacchi.ca</td>\n",
       "      <td>ca</td>\n",
       "      <td>en</td>\n",
       "      <td>16477257799</td>\n",
       "      <td>Micacchi Architecture</td>\n",
       "      <td>ca</td>\n",
       "      <td>Micacchi Architecture</td>\n",
       "      <td>Architects &amp; Architectural Services</td>\n",
       "      <td>NaN</td>\n",
       "      <td>...</td>\n",
       "      <td>NaN</td>\n",
       "      <td>https://micacchi.ca</td>\n",
       "      <td>Micacchi Architecture</td>\n",
       "      <td>LocalBusiness</td>\n",
       "      <td>NaN</td>\n",
       "      <td>on</td>\n",
       "      <td>m6p 1t4</td>\n",
       "      <td>Canada</td>\n",
       "      <td>Toronto</td>\n",
       "      <td>Ontario</td>\n",
       "    </tr>\n",
       "    <tr>\n",
       "      <th>1</th>\n",
       "      <td>44</td>\n",
       "      <td>argogold.ca</td>\n",
       "      <td>ca</td>\n",
       "      <td>NaN</td>\n",
       "      <td>14167867860</td>\n",
       "      <td>Argo Gold</td>\n",
       "      <td>ca</td>\n",
       "      <td>Argo Gold</td>\n",
       "      <td>Mining &amp; Gas Exploration</td>\n",
       "      <td>ARGO GOLD INC</td>\n",
       "      <td>...</td>\n",
       "      <td>NaN</td>\n",
       "      <td>https://argogold.ca</td>\n",
       "      <td>Argo Gold, Inc.</td>\n",
       "      <td>Organization</td>\n",
       "      <td>1.416787e+10</td>\n",
       "      <td>on</td>\n",
       "      <td>m5h2s6</td>\n",
       "      <td>Canada</td>\n",
       "      <td>Toronto</td>\n",
       "      <td>Ontario</td>\n",
       "    </tr>\n",
       "    <tr>\n",
       "      <th>2</th>\n",
       "      <td>48</td>\n",
       "      <td>aporia-records.com</td>\n",
       "      <td>com</td>\n",
       "      <td>en</td>\n",
       "      <td>14169448034</td>\n",
       "      <td>Aporia</td>\n",
       "      <td>com</td>\n",
       "      <td>Aporia</td>\n",
       "      <td>Art &amp; Music Publishers</td>\n",
       "      <td>NaN</td>\n",
       "      <td>...</td>\n",
       "      <td>info@aporia-records.com</td>\n",
       "      <td>http://aporia-records.com</td>\n",
       "      <td>Aporia</td>\n",
       "      <td>Organization</td>\n",
       "      <td>NaN</td>\n",
       "      <td>on</td>\n",
       "      <td>m4m 1y3</td>\n",
       "      <td>Canada</td>\n",
       "      <td>Toronto</td>\n",
       "      <td>Ontario</td>\n",
       "    </tr>\n",
       "    <tr>\n",
       "      <th>3</th>\n",
       "      <td>74</td>\n",
       "      <td>robertjonesmenswear.com</td>\n",
       "      <td>com</td>\n",
       "      <td>en</td>\n",
       "      <td>14163626837</td>\n",
       "      <td>Robert Jones Menswear</td>\n",
       "      <td>com</td>\n",
       "      <td>Robert Jones Menswear</td>\n",
       "      <td>Clothing Stores</td>\n",
       "      <td>INIS MEAIN KNITTING COMPANY</td>\n",
       "      <td>...</td>\n",
       "      <td>robertjonesmenswear@bellnet.ca</td>\n",
       "      <td>http://robertjonesmenswear.com</td>\n",
       "      <td>Robert Jones Menswear</td>\n",
       "      <td>LocalBusiness</td>\n",
       "      <td>1.416363e+10</td>\n",
       "      <td>on</td>\n",
       "      <td>m5j 2j1</td>\n",
       "      <td>Canada</td>\n",
       "      <td>Toronto</td>\n",
       "      <td>Ontario</td>\n",
       "    </tr>\n",
       "    <tr>\n",
       "      <th>4</th>\n",
       "      <td>126</td>\n",
       "      <td>classinsession.ca</td>\n",
       "      <td>ca</td>\n",
       "      <td>en</td>\n",
       "      <td>14164772262</td>\n",
       "      <td>Class in Session</td>\n",
       "      <td>ca</td>\n",
       "      <td>Class in Session</td>\n",
       "      <td>Learning, Tutoring &amp; Courses</td>\n",
       "      <td>NaN</td>\n",
       "      <td>...</td>\n",
       "      <td>NaN</td>\n",
       "      <td>https://classinsession.ca</td>\n",
       "      <td>Class In Session</td>\n",
       "      <td>LocalBusiness</td>\n",
       "      <td>1.416477e+10</td>\n",
       "      <td>on</td>\n",
       "      <td>NaN</td>\n",
       "      <td>Canada</td>\n",
       "      <td>Toronto</td>\n",
       "      <td>Ontario</td>\n",
       "    </tr>\n",
       "  </tbody>\n",
       "</table>\n",
       "<p>5 rows × 28 columns</p>\n",
       "</div>"
      ],
      "text/plain": [
       "   index__website     root_domain__website domain_suffix language  \\\n",
       "0               9              micacchi.ca            ca       en   \n",
       "1              44              argogold.ca            ca      NaN   \n",
       "2              48       aporia-records.com           com       en   \n",
       "3              74  robertjonesmenswear.com           com       en   \n",
       "4             126        classinsession.ca            ca       en   \n",
       "\n",
       "  phone__website              site_name  tld site_name_clean__website  \\\n",
       "0    16477257799  Micacchi Architecture   ca    Micacchi Architecture   \n",
       "1    14167867860              Argo Gold   ca                Argo Gold   \n",
       "2    14169448034                 Aporia  com                   Aporia   \n",
       "3    14163626837  Robert Jones Menswear  com    Robert Jones Menswear   \n",
       "4    14164772262       Class in Session   ca         Class in Session   \n",
       "\n",
       "                        category_clean             legal_name_clean  ...  \\\n",
       "0  Architects & Architectural Services                          NaN  ...   \n",
       "1             Mining & Gas Exploration                ARGO GOLD INC  ...   \n",
       "2               Art & Music Publishers                          NaN  ...   \n",
       "3                      Clothing Stores  INIS MEAIN KNITTING COMPANY  ...   \n",
       "4         Learning, Tutoring & Courses                          NaN  ...   \n",
       "\n",
       "                            email                            link  \\\n",
       "0                             NaN             https://micacchi.ca   \n",
       "1                             NaN             https://argogold.ca   \n",
       "2         info@aporia-records.com       http://aporia-records.com   \n",
       "3  robertjonesmenswear@bellnet.ca  http://robertjonesmenswear.com   \n",
       "4                             NaN       https://classinsession.ca   \n",
       "\n",
       "  site_name_clean__facebook      page_type phone__facebook region_code  \\\n",
       "0     Micacchi Architecture  LocalBusiness             NaN          on   \n",
       "1           Argo Gold, Inc.   Organization    1.416787e+10          on   \n",
       "2                    Aporia   Organization             NaN          on   \n",
       "3     Robert Jones Menswear  LocalBusiness    1.416363e+10          on   \n",
       "4          Class In Session  LocalBusiness    1.416477e+10          on   \n",
       "\n",
       "  zip_code country_clean__facebook city_clean__facebook region_clean__facebook  \n",
       "0  m6p 1t4                  Canada              Toronto                Ontario  \n",
       "1   m5h2s6                  Canada              Toronto                Ontario  \n",
       "2  m4m 1y3                  Canada              Toronto                Ontario  \n",
       "3  m5j 2j1                  Canada              Toronto                Ontario  \n",
       "4      NaN                  Canada              Toronto                Ontario  \n",
       "\n",
       "[5 rows x 28 columns]"
      ]
     },
     "execution_count": 75,
     "metadata": {},
     "output_type": "execute_result"
    }
   ],
   "source": [
    "subset_of_matches.head()"
   ]
  }
 ],
 "metadata": {
  "environment": {
   "kernel": "python3",
   "name": "common-cpu.m87",
   "type": "gcloud",
   "uri": "gcr.io/deeplearning-platform-release/base-cpu:m87"
  },
  "kernelspec": {
   "display_name": "Python 3",
   "language": "python",
   "name": "python3"
  },
  "language_info": {
   "codemirror_mode": {
    "name": "ipython",
    "version": 3
   },
   "file_extension": ".py",
   "mimetype": "text/x-python",
   "name": "python",
   "nbconvert_exporter": "python",
   "pygments_lexer": "ipython3",
   "version": "3.7.12"
  }
 },
 "nbformat": 4,
 "nbformat_minor": 5
}
