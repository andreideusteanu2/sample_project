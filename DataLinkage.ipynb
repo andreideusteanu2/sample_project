{
 "cells": [
  {
   "cell_type": "code",
   "execution_count": 1,
   "id": "46ac9968-5609-4bbe-ad8e-fe6570acd338",
   "metadata": {},
   "outputs": [
    {
     "name": "stdout",
     "output_type": "stream",
     "text": [
      "Requirement already satisfied: recordlinkage in /opt/conda/lib/python3.7/site-packages (0.14)\n",
      "Requirement already satisfied: numpy>=1.13.0 in /opt/conda/lib/python3.7/site-packages (from recordlinkage) (1.19.5)\n",
      "Requirement already satisfied: scikit-learn>=0.19.0 in /opt/conda/lib/python3.7/site-packages (from recordlinkage) (1.0.1)\n",
      "Requirement already satisfied: scipy>=1 in /opt/conda/lib/python3.7/site-packages (from recordlinkage) (1.7.3)\n",
      "Requirement already satisfied: pandas>=0.23 in /opt/conda/lib/python3.7/site-packages (from recordlinkage) (1.3.5)\n",
      "Requirement already satisfied: jellyfish>=0.5.4 in /opt/conda/lib/python3.7/site-packages (from recordlinkage) (0.8.9)\n",
      "Requirement already satisfied: joblib in /opt/conda/lib/python3.7/site-packages (from recordlinkage) (1.0.1)\n",
      "Requirement already satisfied: python-dateutil>=2.7.3 in /opt/conda/lib/python3.7/site-packages (from pandas>=0.23->recordlinkage) (2.8.2)\n",
      "Requirement already satisfied: pytz>=2017.3 in /opt/conda/lib/python3.7/site-packages (from pandas>=0.23->recordlinkage) (2021.3)\n",
      "Requirement already satisfied: threadpoolctl>=2.0.0 in /opt/conda/lib/python3.7/site-packages (from scikit-learn>=0.19.0->recordlinkage) (3.0.0)\n",
      "Requirement already satisfied: six>=1.5 in /opt/conda/lib/python3.7/site-packages (from python-dateutil>=2.7.3->pandas>=0.23->recordlinkage) (1.16.0)\n",
      "Requirement already satisfied: fsspec in /opt/conda/lib/python3.7/site-packages (2021.11.1)\n",
      "Requirement already satisfied: gcsfs in /opt/conda/lib/python3.7/site-packages (2021.11.1)\n",
      "Requirement already satisfied: google-auth>=1.2 in /opt/conda/lib/python3.7/site-packages (from gcsfs) (2.3.3)\n",
      "Requirement already satisfied: google-cloud-storage in /opt/conda/lib/python3.7/site-packages (from gcsfs) (1.43.0)\n",
      "Requirement already satisfied: aiohttp<4 in /opt/conda/lib/python3.7/site-packages (from gcsfs) (3.8.1)\n",
      "Requirement already satisfied: fsspec==2021.11.1 in /opt/conda/lib/python3.7/site-packages (from gcsfs) (2021.11.1)\n",
      "Requirement already satisfied: requests in /opt/conda/lib/python3.7/site-packages (from gcsfs) (2.26.0)\n",
      "Requirement already satisfied: google-auth-oauthlib in /opt/conda/lib/python3.7/site-packages (from gcsfs) (0.4.6)\n",
      "Requirement already satisfied: decorator>4.1.2 in /opt/conda/lib/python3.7/site-packages (from gcsfs) (5.1.0)\n",
      "Requirement already satisfied: charset-normalizer<3.0,>=2.0 in /opt/conda/lib/python3.7/site-packages (from aiohttp<4->gcsfs) (2.0.9)\n",
      "Requirement already satisfied: async-timeout<5.0,>=4.0.0a3 in /opt/conda/lib/python3.7/site-packages (from aiohttp<4->gcsfs) (4.0.1)\n",
      "Requirement already satisfied: frozenlist>=1.1.1 in /opt/conda/lib/python3.7/site-packages (from aiohttp<4->gcsfs) (1.2.0)\n",
      "Requirement already satisfied: attrs>=17.3.0 in /opt/conda/lib/python3.7/site-packages (from aiohttp<4->gcsfs) (21.2.0)\n",
      "Requirement already satisfied: aiosignal>=1.1.2 in /opt/conda/lib/python3.7/site-packages (from aiohttp<4->gcsfs) (1.2.0)\n",
      "Requirement already satisfied: yarl<2.0,>=1.0 in /opt/conda/lib/python3.7/site-packages (from aiohttp<4->gcsfs) (1.7.2)\n",
      "Requirement already satisfied: asynctest==0.13.0 in /opt/conda/lib/python3.7/site-packages (from aiohttp<4->gcsfs) (0.13.0)\n",
      "Requirement already satisfied: typing-extensions>=3.7.4 in /opt/conda/lib/python3.7/site-packages (from aiohttp<4->gcsfs) (4.0.1)\n",
      "Requirement already satisfied: multidict<7.0,>=4.5 in /opt/conda/lib/python3.7/site-packages (from aiohttp<4->gcsfs) (5.2.0)\n",
      "Requirement already satisfied: setuptools>=40.3.0 in /opt/conda/lib/python3.7/site-packages (from google-auth>=1.2->gcsfs) (59.6.0)\n",
      "Requirement already satisfied: pyasn1-modules>=0.2.1 in /opt/conda/lib/python3.7/site-packages (from google-auth>=1.2->gcsfs) (0.2.7)\n",
      "Requirement already satisfied: rsa<5,>=3.1.4 in /opt/conda/lib/python3.7/site-packages (from google-auth>=1.2->gcsfs) (4.8)\n",
      "Requirement already satisfied: cachetools<5.0,>=2.0.0 in /opt/conda/lib/python3.7/site-packages (from google-auth>=1.2->gcsfs) (4.2.4)\n",
      "Requirement already satisfied: six>=1.9.0 in /opt/conda/lib/python3.7/site-packages (from google-auth>=1.2->gcsfs) (1.16.0)\n",
      "Requirement already satisfied: requests-oauthlib>=0.7.0 in /opt/conda/lib/python3.7/site-packages (from google-auth-oauthlib->gcsfs) (1.3.0)\n",
      "Requirement already satisfied: google-cloud-core<3.0dev,>=1.6.0 in /opt/conda/lib/python3.7/site-packages (from google-cloud-storage->gcsfs) (2.2.1)\n",
      "Requirement already satisfied: google-resumable-media<3.0dev,>=1.3.0 in /opt/conda/lib/python3.7/site-packages (from google-cloud-storage->gcsfs) (2.1.0)\n",
      "Requirement already satisfied: protobuf in /opt/conda/lib/python3.7/site-packages (from google-cloud-storage->gcsfs) (3.19.1)\n",
      "Requirement already satisfied: google-api-core<3.0dev,>=1.29.0 in /opt/conda/lib/python3.7/site-packages (from google-cloud-storage->gcsfs) (2.3.2)\n",
      "Requirement already satisfied: urllib3<1.27,>=1.21.1 in /opt/conda/lib/python3.7/site-packages (from requests->gcsfs) (1.26.7)\n",
      "Requirement already satisfied: certifi>=2017.4.17 in /opt/conda/lib/python3.7/site-packages (from requests->gcsfs) (2021.10.8)\n",
      "Requirement already satisfied: idna<4,>=2.5 in /opt/conda/lib/python3.7/site-packages (from requests->gcsfs) (3.1)\n",
      "Requirement already satisfied: googleapis-common-protos<2.0dev,>=1.52.0 in /opt/conda/lib/python3.7/site-packages (from google-api-core<3.0dev,>=1.29.0->google-cloud-storage->gcsfs) (1.53.0)\n",
      "Requirement already satisfied: google-crc32c<2.0dev,>=1.0 in /opt/conda/lib/python3.7/site-packages (from google-resumable-media<3.0dev,>=1.3.0->google-cloud-storage->gcsfs) (1.1.2)\n",
      "Requirement already satisfied: pyasn1<0.5.0,>=0.4.6 in /opt/conda/lib/python3.7/site-packages (from pyasn1-modules>=0.2.1->google-auth>=1.2->gcsfs) (0.4.8)\n",
      "Requirement already satisfied: oauthlib>=3.0.0 in /opt/conda/lib/python3.7/site-packages (from requests-oauthlib>=0.7.0->google-auth-oauthlib->gcsfs) (3.1.1)\n",
      "Requirement already satisfied: cffi>=1.0.0 in /opt/conda/lib/python3.7/site-packages (from google-crc32c<2.0dev,>=1.0->google-resumable-media<3.0dev,>=1.3.0->google-cloud-storage->gcsfs) (1.15.0)\n",
      "Requirement already satisfied: pycparser in /opt/conda/lib/python3.7/site-packages (from cffi>=1.0.0->google-crc32c<2.0dev,>=1.0->google-resumable-media<3.0dev,>=1.3.0->google-cloud-storage->gcsfs) (2.21)\n"
     ]
    }
   ],
   "source": [
    "! pip install recordlinkage\n",
    "! pip install fsspec\n",
    "! pip install gcsfs"
   ]
  },
  {
   "cell_type": "code",
   "execution_count": 1,
   "id": "97c08a66-50ad-43f1-b2b3-c8512ffb85c2",
   "metadata": {},
   "outputs": [],
   "source": [
    "import pandas as pd\n",
    "import gcsfs\n",
    "import recordlinkage as rl"
   ]
  },
  {
   "cell_type": "code",
   "execution_count": 2,
   "id": "42fb2d5d-89b4-40aa-b6ee-8962c265f112",
   "metadata": {},
   "outputs": [],
   "source": [
    "from gcsfs.core import GCSFileSystem\n",
    "gcs = GCSFileSystem('courseradataeng', token='/home/jupyter/.config/gcloud/application_default_credentials.json') "
   ]
  },
  {
   "cell_type": "code",
   "execution_count": 3,
   "id": "f04ffc8f-a7d9-4dca-824f-7bc1d8aa94ac",
   "metadata": {},
   "outputs": [],
   "source": [
    "with gcs.open('soleadify_sample_data/website_dataset_clean.csv') as f:\n",
    "    website_dataset_clean = pd.read_csv(f)"
   ]
  },
  {
   "cell_type": "code",
   "execution_count": 4,
   "id": "51b44f29-d3bd-453d-b194-b470bab7a9b4",
   "metadata": {},
   "outputs": [],
   "source": [
    "with gcs.open('soleadify_sample_data/facebook_dataset_clean.csv') as f:\n",
    "    facebook_dataset_clean = pd.read_csv(f , quotechar='\"', escapechar='\\\\').drop('Unnamed: 0',axis=1)"
   ]
  },
  {
   "cell_type": "code",
   "execution_count": 5,
   "id": "06a553de-dea8-48f4-9360-ab6c09f0862d",
   "metadata": {},
   "outputs": [],
   "source": [
    "indexes={'block':[{'facebook':'country_final','website':'country_clean'}\n",
    "                 ,{'facebook':'region_consistent','website':'region_clean'}\n",
    "                 ,{'facebook':'city_consistent','website':'city_clean'}\n",
    "                  ]\n",
    "        ,'sorted_neighbour':[{'facebook':'domain','website':'root_domain'}\n",
    "                            ,{'facebook':'name','website':'site_name_clean'}\n",
    "                             ]\n",
    "        }"
   ]
  },
  {
   "cell_type": "code",
   "execution_count": null,
   "id": "9a038ebd-6ceb-4dea-be45-66b68da0bb77",
   "metadata": {},
   "outputs": [],
   "source": [
    "indexer = rl.Index()\n",
    "for index_type in indexes.keys():\n",
    "    if index_type == 'block':\n",
    "        for index_pair in indexes[index_type]:\n",
    "            indexer.add(rl.index.Block( index_pair['facebook'], index_pair['website']))\n",
    "  \n",
    "#     if index_type == 'sorted_neighbour':\n",
    "#         for index_pair in indexes[index_type]:\n",
    "#             indexer.add(rl.index.SortedNeighbourhood( index_pair['facebook'], index_pair['website']))\n",
    "            \n",
    "combined_index = indexer.index(facebook_dataset_clean, website_dataset_clean)"
   ]
  },
  {
   "cell_type": "code",
   "execution_count": 10,
   "id": "b7885efd-acf3-4414-8b83-e554119dfb6c",
   "metadata": {},
   "outputs": [],
   "source": [
    "facebook_us = facebook_dataset_clean.query('country_final==\"United States\"')\n",
    "website_us = website_dataset_clean.query('country_clean==\"United States\"')"
   ]
  },
  {
   "cell_type": "code",
   "execution_count": 14,
   "id": "201c9d01-7d4e-4034-a20a-a4d56a4915e3",
   "metadata": {},
   "outputs": [
    {
     "data": {
      "text/plain": [
       "9524"
      ]
     },
     "execution_count": 14,
     "metadata": {},
     "output_type": "execute_result"
    }
   ],
   "source": [
    "website_us['root_domain'].count()"
   ]
  },
  {
   "cell_type": "code",
   "execution_count": 12,
   "id": "26fd4e48-05fd-4dcd-b156-fd453bf6e143",
   "metadata": {},
   "outputs": [
    {
     "data": {
      "text/plain": [
       "6703"
      ]
     },
     "execution_count": 12,
     "metadata": {},
     "output_type": "execute_result"
    }
   ],
   "source": [
    "facebook_us['domain'].count()"
   ]
  },
  {
   "cell_type": "code",
   "execution_count": 17,
   "id": "4fd3654d-c93f-4c8a-a6cf-d13e256fa1c2",
   "metadata": {},
   "outputs": [],
   "source": [
    "indexer = rl.Index()\n",
    "index_type = 'sorted_neighbour'\n",
    "for index_pair in indexes[index_type]:\n",
    "    indexer.add(rl.index.SortedNeighbourhood(index_pair['website'], index_pair['facebook'] ))\n",
    "combined_index_us = indexer.index(website_us, facebook_us)"
   ]
  },
  {
   "cell_type": "code",
   "execution_count": 19,
   "id": "99dd4ecd-f9f0-4daf-abc3-2b3b400a3e8f",
   "metadata": {},
   "outputs": [
    {
     "data": {
      "text/plain": [
       "MultiIndex([(   20,  3877),\n",
       "            (   20, 35300),\n",
       "            (   40,  2429),\n",
       "            (   40, 67644),\n",
       "            (   65,  2071),\n",
       "            (   65, 11752),\n",
       "            (   65, 22174),\n",
       "            (   65, 32258),\n",
       "            (   67, 14001),\n",
       "            (   72, 24027),\n",
       "            ...\n",
       "            (71862, 41779),\n",
       "            (71865, 15087),\n",
       "            (71865, 43664),\n",
       "            (71865, 57319),\n",
       "            (71869, 24259),\n",
       "            (71869, 71202),\n",
       "            (71889, 14065),\n",
       "            (71905, 10024),\n",
       "            (71905, 11945),\n",
       "            (71905, 17983)],\n",
       "           length=24468)"
      ]
     },
     "execution_count": 19,
     "metadata": {},
     "output_type": "execute_result"
    }
   ],
   "source": [
    "combined_index_us_unqiue = combined_index_us.drop_duplicates(keep='first')\n",
    "combined_index_us_unqiue"
   ]
  }
 ],
 "metadata": {
  "environment": {
   "kernel": "python3",
   "name": "common-cpu.m87",
   "type": "gcloud",
   "uri": "gcr.io/deeplearning-platform-release/base-cpu:m87"
  },
  "kernelspec": {
   "display_name": "Python 3",
   "language": "python",
   "name": "python3"
  },
  "language_info": {
   "codemirror_mode": {
    "name": "ipython",
    "version": 3
   },
   "file_extension": ".py",
   "mimetype": "text/x-python",
   "name": "python",
   "nbconvert_exporter": "python",
   "pygments_lexer": "ipython3",
   "version": "3.7.12"
  }
 },
 "nbformat": 4,
 "nbformat_minor": 5
}
