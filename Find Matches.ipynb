{
 "cells": [
  {
   "cell_type": "code",
   "execution_count": null,
   "id": "46ac9968-5609-4bbe-ad8e-fe6570acd338",
   "metadata": {},
   "outputs": [],
   "source": [
    "! pip install -r '/home/jupyter/sample_project/requirements.txt'"
   ]
  },
  {
   "cell_type": "code",
   "execution_count": 2,
   "id": "97c08a66-50ad-43f1-b2b3-c8512ffb85c2",
   "metadata": {},
   "outputs": [],
   "source": [
    "import pandas as pd\n",
    "import gcsfs\n",
    "import recordlinkage as rl\n",
    "import matching as m\n",
    "import helpers as h"
   ]
  },
  {
   "cell_type": "code",
   "execution_count": 3,
   "id": "42fb2d5d-89b4-40aa-b6ee-8962c265f112",
   "metadata": {},
   "outputs": [],
   "source": [
    "from gcsfs.core import GCSFileSystem\n",
    "gcs = GCSFileSystem('courseradataeng', token='/home/jupyter/.config/gcloud/application_default_credentials.json') "
   ]
  },
  {
   "cell_type": "code",
   "execution_count": 4,
   "id": "f04ffc8f-a7d9-4dca-824f-7bc1d8aa94ac",
   "metadata": {},
   "outputs": [],
   "source": [
    "with gcs.open('soleadify_sample_data/website_dataset_clean.csv') as f:\n",
    "    website_dataset_clean = pd.read_csv(f)\n"
   ]
  },
  {
   "cell_type": "code",
   "execution_count": 5,
   "id": "51b44f29-d3bd-453d-b194-b470bab7a9b4",
   "metadata": {},
   "outputs": [],
   "source": [
    "with gcs.open('soleadify_sample_data/facebook_dataset_clean.csv') as f:\n",
    "    facebook_dataset_clean = (pd.read_csv(f , quotechar='\"', escapechar='\\\\')\n",
    "                                .drop('Unnamed: 0',axis=1)\n",
    "                                .rename(columns={'country_final':'country_clean'\n",
    "                                        ,'region_consistent':'region_clean'\n",
    "                                       ,'city_consistent':'city_clean'\n",
    "                                       ,'domain':'root_domain'\n",
    "                                       ,'name':'site_name_clean'}\n",
    "                                       )\n",
    "                             )"
   ]
  },
  {
   "cell_type": "code",
   "execution_count": 6,
   "id": "06a553de-dea8-48f4-9360-ab6c09f0862d",
   "metadata": {},
   "outputs": [],
   "source": [
    "indexes={'block':['country_clean','region_clean','city_clean']\n",
    "        ,'sorted_neighbour':['root_domain','site_name_clean']\n",
    "        }"
   ]
  },
  {
   "cell_type": "code",
   "execution_count": 36,
   "id": "531dc099-96ea-4727-899d-5c481c3ce304",
   "metadata": {},
   "outputs": [
    {
     "data": {
      "text/plain": [
       "country_clean   region_clean  city_clean \n",
       "Canada          Ontario       Toronto        2713\n",
       "                Alberta       Calgary        2529\n",
       "                              Edmonton       1788\n",
       "                Ontario       Mississauga    1580\n",
       "                              Ottawa          814\n",
       "                                             ... \n",
       "United Kingdom  England       Shirley           1\n",
       "Canada          Manitoba      Carberry          1\n",
       "United Kingdom  England       Sheerness         1\n",
       "Canada          Manitoba      Carman            1\n",
       "Turkey          Samsun        Unkapani          1\n",
       "Length: 7268, dtype: int64"
      ]
     },
     "execution_count": 36,
     "metadata": {},
     "output_type": "execute_result"
    }
   ],
   "source": [
    "facebook_dataset_clean[indexes['block']].value_counts()"
   ]
  },
  {
   "cell_type": "code",
   "execution_count": 37,
   "id": "2f49b614-c59b-4667-b394-ddffa1e7acd8",
   "metadata": {},
   "outputs": [
    {
     "data": {
      "text/plain": [
       "country_clean  region_clean  city_clean      \n",
       "Canada         Ontario       Toronto             3292\n",
       "               Alberta       Calgary             2764\n",
       "                             Edmonton            1901\n",
       "               Ontario       Mississauga         1535\n",
       "                             Ottawa               976\n",
       "                                                 ... \n",
       "Turkey         Manisa        Akhisar                1\n",
       "Canada         Ontario       Lambton (Forest)       1\n",
       "                             Lappe                  1\n",
       "Turkey         Konya         Cumra                  1\n",
       "United States  Colorado      Fort Morgan            1\n",
       "Length: 10833, dtype: int64"
      ]
     },
     "execution_count": 37,
     "metadata": {},
     "output_type": "execute_result"
    }
   ],
   "source": [
    "website_dataset_clean[indexes['block']].value_counts()"
   ]
  },
  {
   "cell_type": "code",
   "execution_count": 18,
   "id": "4d40b073-8ff2-4f5d-b34f-fe76105f6a9f",
   "metadata": {},
   "outputs": [
    {
     "data": {
      "text/plain": [
       "count      64834\n",
       "unique       181\n",
       "top       Canada\n",
       "freq       39779\n",
       "Name: country_clean, dtype: object"
      ]
     },
     "execution_count": 18,
     "metadata": {},
     "output_type": "execute_result"
    }
   ],
   "source": [
    "website_dataset_clean['country_clean'].describe()"
   ]
  },
  {
   "cell_type": "markdown",
   "id": "e5dff754-3952-4f5f-b6fc-f1aecc163da7",
   "metadata": {},
   "source": [
    "There is missing data in terms of country in both datasets.\n",
    "Also there are a lot of countries with just a few entries.\n",
    "I will move these into 2 separate datasets - Country not available and Low Frequency"
   ]
  },
  {
   "cell_type": "code",
   "execution_count": 7,
   "id": "59a4eba9-8991-4d14-843a-cf6e90998417",
   "metadata": {},
   "outputs": [],
   "source": [
    "combinations = (pd.concat([facebook_dataset_clean[indexes['block']]\n",
    "                          , website_dataset_clean[indexes['block']]])\n",
    "                .drop_duplicates()\n",
    "                .dropna()\n",
    "               )\n",
    "\n",
    "combinations = combinations.to_dict(orient = 'records')"
   ]
  },
  {
   "cell_type": "code",
   "execution_count": 7,
   "id": "5505c668-bba0-4c46-a1fe-e34775dc6694",
   "metadata": {},
   "outputs": [],
   "source": [
    "country = 'Canada'\n",
    "region = 'Ontario'\n",
    "city = 'Toronto'\n",
    "\n",
    "facebook_subset = (facebook_dataset_clean\n",
    "                .query('''country_clean == @country \\\n",
    "                & region_clean == @region \\\n",
    "                & city_clean == @city \\\n",
    "                & root_domain.notna() \\\n",
    "                & site_name_clean.notna() \\\n",
    "                ''')\n",
    "                  )\n",
    "website_subset = (website_dataset_clean\n",
    "                .query('''country_clean == @country \\\n",
    "                & region_clean == @region \\\n",
    "                & city_clean == @city \\\n",
    "                & root_domain.notna() \\\n",
    "                & site_name_clean.notna() \\\n",
    "                ''')\n",
    "                 )\n",
    "\n",
    "counts = {'facebook':facebook_subset.shape[0]\n",
    "          , 'website':website_subset.shape[0]}\n",
    "\n",
    "if counts['facebook']> counts['website']:\n",
    "    datasets = {'left':{'origin':'facebook','data':facebook_subset.copy(deep = True)}\n",
    "               ,'right':{'origin':'website','data':website_subset.copy(deep = True)}\n",
    "               }\n",
    "\n",
    "else:\n",
    "    datasets = {'left':{'origin':'website','data':website_subset.copy(deep = True)}\n",
    "               ,'right':{'origin':'facebook','data':facebook_subset.copy(deep = True)}\n",
    "               }"
   ]
  },
  {
   "cell_type": "code",
   "execution_count": 9,
   "id": "dd6816b1-60f5-42d5-a222-9760599d3d56",
   "metadata": {},
   "outputs": [
    {
     "name": "stdout",
     "output_type": "stream",
     "text": [
      "country_clean== \"France\" & region_clean== \"Occitanie\" & city_clean== \"Calvisson\" & root_domain.notna() & site_name_clean.notna()\n"
     ]
    }
   ],
   "source": [
    "print(filtering_query)"
   ]
  },
  {
   "cell_type": "code",
   "execution_count": 8,
   "id": "8afa9494-82e3-4e9d-be40-075852112dfd",
   "metadata": {},
   "outputs": [],
   "source": [
    "logic_dict = {'country_clean':'value'\n",
    "              ,'region_clean':'value'\n",
    "              ,'city_clean':'value'\n",
    "              ,'root_domain':'notna'\n",
    "              ,'site_name_clean':'notna'\n",
    "             }\n",
    "\n",
    "combination = combinations [0]\n",
    "\n",
    "\n",
    "filtering_dict = h.get_filtering_dict(logic_dict, combination)\n",
    "filtering_query = h.get_filtering_query(filtering_dict)\n",
    "\n",
    "\n",
    "origin_mapping = {'dataset_1':'facebook','dataset_2':'website'}\n",
    "\n",
    "dataset_1 = facebook_dataset_clean\n",
    "dataset_2 = website_dataset_clean\n",
    "\n",
    "datasets = h.filter_data(dataset_1, dataset_2, filtering_query, origin_mapping)"
   ]
  },
  {
   "cell_type": "code",
   "execution_count": 10,
   "id": "0782e9d6-b0fc-45e9-b0aa-c7a0e1b1590e",
   "metadata": {},
   "outputs": [
    {
     "data": {
      "text/html": [
       "<div>\n",
       "<style scoped>\n",
       "    .dataframe tbody tr th:only-of-type {\n",
       "        vertical-align: middle;\n",
       "    }\n",
       "\n",
       "    .dataframe tbody tr th {\n",
       "        vertical-align: top;\n",
       "    }\n",
       "\n",
       "    .dataframe thead th {\n",
       "        text-align: right;\n",
       "    }\n",
       "</style>\n",
       "<table border=\"1\" class=\"dataframe\">\n",
       "  <thead>\n",
       "    <tr style=\"text-align: right;\">\n",
       "      <th></th>\n",
       "      <th>address</th>\n",
       "      <th>categories</th>\n",
       "      <th>category_clean</th>\n",
       "      <th>city_clean__facebook</th>\n",
       "      <th>city_clean__website</th>\n",
       "      <th>country_clean__facebook</th>\n",
       "      <th>country_clean__website</th>\n",
       "      <th>description</th>\n",
       "      <th>domain_suffix</th>\n",
       "      <th>email</th>\n",
       "      <th>...</th>\n",
       "      <th>region_clean__facebook</th>\n",
       "      <th>region_clean__website</th>\n",
       "      <th>region_code</th>\n",
       "      <th>root_domain__facebook</th>\n",
       "      <th>root_domain__website</th>\n",
       "      <th>site_name</th>\n",
       "      <th>site_name_clean__facebook</th>\n",
       "      <th>site_name_clean__website</th>\n",
       "      <th>tld</th>\n",
       "      <th>zip_code</th>\n",
       "    </tr>\n",
       "  </thead>\n",
       "  <tbody>\n",
       "    <tr>\n",
       "      <th>0</th>\n",
       "      <td>161, rue du levant, 30420, calvisson, france, ...</td>\n",
       "      <td>Digital &amp; Marketing Agencies|Commercial Printing</td>\n",
       "      <td>Graphic Design</td>\n",
       "      <td>Calvisson</td>\n",
       "      <td>Calvisson</td>\n",
       "      <td>France</td>\n",
       "      <td>France</td>\n",
       "      <td>NaN</td>\n",
       "      <td>com</td>\n",
       "      <td>NaN</td>\n",
       "      <td>...</td>\n",
       "      <td>Occitanie</td>\n",
       "      <td>Occitanie</td>\n",
       "      <td>occ</td>\n",
       "      <td>studioonoz.com</td>\n",
       "      <td>studioonoz.com</td>\n",
       "      <td>Studio OnOz</td>\n",
       "      <td>Studio OnOz</td>\n",
       "      <td>Studio OnOz</td>\n",
       "      <td>com</td>\n",
       "      <td>30420</td>\n",
       "    </tr>\n",
       "    <tr>\n",
       "      <th>1</th>\n",
       "      <td>1 rue des marchands, 30420, calvisson, france,...</td>\n",
       "      <td>Bicycle Shops|Sports Medicine &amp; Physical Therapy</td>\n",
       "      <td>Atvs Dealers &amp; Services</td>\n",
       "      <td>Calvisson</td>\n",
       "      <td>Calvisson</td>\n",
       "      <td>France</td>\n",
       "      <td>France</td>\n",
       "      <td>NaN</td>\n",
       "      <td>fr</td>\n",
       "      <td>NaN</td>\n",
       "      <td>...</td>\n",
       "      <td>Occitanie</td>\n",
       "      <td>Occitanie</td>\n",
       "      <td>occ</td>\n",
       "      <td>vaunagepassionvelos.fr</td>\n",
       "      <td>vaunagepassionvelos.fr</td>\n",
       "      <td>Vaunage Passion Velos</td>\n",
       "      <td>VaunagePassion Vélos</td>\n",
       "      <td>Vaunage Passion Velos</td>\n",
       "      <td>fr</td>\n",
       "      <td>30420</td>\n",
       "    </tr>\n",
       "    <tr>\n",
       "      <th>2</th>\n",
       "      <td>4 rue marchands, 30420, calvisson, france, lan...</td>\n",
       "      <td>NaN</td>\n",
       "      <td>Meat, Fish &amp; Seafood Stores</td>\n",
       "      <td>Calvisson</td>\n",
       "      <td>Calvisson</td>\n",
       "      <td>France</td>\n",
       "      <td>France</td>\n",
       "      <td>NaN</td>\n",
       "      <td>fr</td>\n",
       "      <td>NaN</td>\n",
       "      <td>...</td>\n",
       "      <td>Occitanie</td>\n",
       "      <td>Occitanie</td>\n",
       "      <td>occ</td>\n",
       "      <td>meney-salaisons.fr</td>\n",
       "      <td>meney-salaisons.fr</td>\n",
       "      <td>Meney Salaisons Traiteur</td>\n",
       "      <td>Meney Traiteur</td>\n",
       "      <td>Meney Salaisons Traiteur</td>\n",
       "      <td>fr</td>\n",
       "      <td>30420</td>\n",
       "    </tr>\n",
       "  </tbody>\n",
       "</table>\n",
       "<p>3 rows × 28 columns</p>\n",
       "</div>"
      ],
      "text/plain": [
       "                                             address  \\\n",
       "0  161, rue du levant, 30420, calvisson, france, ...   \n",
       "1  1 rue des marchands, 30420, calvisson, france,...   \n",
       "2  4 rue marchands, 30420, calvisson, france, lan...   \n",
       "\n",
       "                                         categories  \\\n",
       "0  Digital & Marketing Agencies|Commercial Printing   \n",
       "1  Bicycle Shops|Sports Medicine & Physical Therapy   \n",
       "2                                               NaN   \n",
       "\n",
       "                category_clean city_clean__facebook city_clean__website  \\\n",
       "0               Graphic Design            Calvisson           Calvisson   \n",
       "1      Atvs Dealers & Services            Calvisson           Calvisson   \n",
       "2  Meat, Fish & Seafood Stores            Calvisson           Calvisson   \n",
       "\n",
       "  country_clean__facebook country_clean__website description domain_suffix  \\\n",
       "0                  France                 France         NaN           com   \n",
       "1                  France                 France         NaN            fr   \n",
       "2                  France                 France         NaN            fr   \n",
       "\n",
       "  email  ...  region_clean__facebook  region_clean__website region_code  \\\n",
       "0   NaN  ...               Occitanie              Occitanie         occ   \n",
       "1   NaN  ...               Occitanie              Occitanie         occ   \n",
       "2   NaN  ...               Occitanie              Occitanie         occ   \n",
       "\n",
       "    root_domain__facebook    root_domain__website                 site_name  \\\n",
       "0          studioonoz.com          studioonoz.com               Studio OnOz   \n",
       "1  vaunagepassionvelos.fr  vaunagepassionvelos.fr     Vaunage Passion Velos   \n",
       "2      meney-salaisons.fr      meney-salaisons.fr  Meney Salaisons Traiteur   \n",
       "\n",
       "   site_name_clean__facebook  site_name_clean__website  tld zip_code  \n",
       "0                Studio OnOz               Studio OnOz  com    30420  \n",
       "1       VaunagePassion Vélos     Vaunage Passion Velos   fr    30420  \n",
       "2             Meney Traiteur  Meney Salaisons Traiteur   fr    30420  \n",
       "\n",
       "[3 rows x 28 columns]"
      ]
     },
     "execution_count": 10,
     "metadata": {},
     "output_type": "execute_result"
    }
   ],
   "source": [
    "subset_of_matches = m.get_matches(datasets['left'], datasets['right'], indexes['sorted_neighbour'])\n",
    "subset_of_matches.head()"
   ]
  },
  {
   "cell_type": "code",
   "execution_count": 14,
   "id": "1ca391c2-2710-4187-a30c-19862d349cc5",
   "metadata": {},
   "outputs": [],
   "source": [
    "levels_of_logic = {\n",
    "    'level_1':{'country_clean':'value'\n",
    "              ,'region_clean':'value'\n",
    "              ,'city_clean':'value'\n",
    "              ,'root_domain':'notna'\n",
    "              ,'site_name_clean':'notna'\n",
    "             }\n",
    "    ,'level_2':{'country_clean':'value'\n",
    "              ,'region_clean':'value'\n",
    "              ,'city_clean':'isna'\n",
    "              ,'root_domain':'notna'\n",
    "              ,'site_name_clean':'notna'\n",
    "             }\n",
    "    ,'level_3':{'country_clean':'value'\n",
    "              ,'region_clean':'isna'\n",
    "              ,'city_clean':'isna'\n",
    "              ,'root_domain':'notna'\n",
    "              ,'site_name_clean':'notna'\n",
    "             }\n",
    "    ,'level_4':{'country_clean':'isna'\n",
    "              ,'region_clean':'isna'\n",
    "              ,'city_clean':'isna'\n",
    "              ,'root_domain':'notna'\n",
    "              ,'site_name_clean':'notna'\n",
    "             }\n",
    "    ,'level_5':{'country_clean':'isna'\n",
    "              ,'region_clean':'isna'\n",
    "              ,'city_clean':'isna'\n",
    "              ,'root_domain':'notna'\n",
    "              ,'site_name_clean':'isna'\n",
    "             }\n",
    "}\n",
    "origin_mapping = {'dataset_1':'facebook','dataset_2':'website'}\n",
    "dataset_1 = facebook_dataset_clean\n",
    "dataset_2 = website_dataset_clean"
   ]
  },
  {
   "cell_type": "code",
   "execution_count": null,
   "id": "5edfb69f-792e-4095-b0dd-8ba09347926c",
   "metadata": {},
   "outputs": [],
   "source": [
    "blocking_columns = []\n",
    "similar_columns = []\n",
    "for logic_dict in levels_of_logic.values():\n",
    "    for column in logic_dict.keys():\n",
    "        if logic_dict[column] == 'value':\n",
    "            blocking_columns.append(column)\n",
    "        elif logic_dict[column] == 'notna':\n",
    "            similar_columns.append(column)\n",
    "    \n",
    "    # combinations = h.get_combinations(dataset_1, dataset_2, blocking_columns)\n",
    "    \n",
    "#     for index, combination in enumerate(combinations):\n",
    "\n",
    "#         filtering_dict = h.get_filtering_dict(logic_dict, combination)\n",
    "#         filtering_query = h.get_filtering_query(filtering_dict)\n",
    "\n",
    "\n",
    "#         datasets = h.filter_data(dataset_1, dataset_2, filtering_query, origin_mapping)\n",
    "        \n",
    "#         subset_of_matches = m.get_matches(datasets['left'], datasets['right'], indexes['sorted_neighbour'])\n",
    "        \n",
    "#         file_name = 'subset_of_matches_'+str(index)+'.csv'\n",
    "#         with gcs.open('soleadify_sample_data/facebook_website_matches/'+file_name,'w') as f:\n",
    "#             subset_of_matches.to_csv(f, index = False)"
   ]
  }
 ],
 "metadata": {
  "environment": {
   "kernel": "python3",
   "name": "common-cpu.m87",
   "type": "gcloud",
   "uri": "gcr.io/deeplearning-platform-release/base-cpu:m87"
  },
  "kernelspec": {
   "display_name": "Python 3",
   "language": "python",
   "name": "python3"
  },
  "language_info": {
   "codemirror_mode": {
    "name": "ipython",
    "version": 3
   },
   "file_extension": ".py",
   "mimetype": "text/x-python",
   "name": "python",
   "nbconvert_exporter": "python",
   "pygments_lexer": "ipython3",
   "version": "3.7.12"
  }
 },
 "nbformat": 4,
 "nbformat_minor": 5
}
