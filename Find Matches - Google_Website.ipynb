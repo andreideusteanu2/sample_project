{
 "cells": [
  {
   "cell_type": "code",
   "execution_count": null,
   "id": "46ac9968-5609-4bbe-ad8e-fe6570acd338",
   "metadata": {},
   "outputs": [],
   "source": [
    "! pip install -r '/home/jupyter/sample_project/requirements.txt'"
   ]
  },
  {
   "cell_type": "code",
   "execution_count": 8,
   "id": "97c08a66-50ad-43f1-b2b3-c8512ffb85c2",
   "metadata": {},
   "outputs": [
    {
     "name": "stdout",
     "output_type": "stream",
     "text": [
      "The autoreload extension is already loaded. To reload it, use:\n",
      "  %reload_ext autoreload\n"
     ]
    }
   ],
   "source": [
    "import pandas as pd\n",
    "import gcsfs\n",
    "import recordlinkage as rl\n",
    "import matching as m\n",
    "import helpers as h\n",
    "%load_ext autoreload\n",
    "%autoreload 2"
   ]
  },
  {
   "cell_type": "code",
   "execution_count": 9,
   "id": "42fb2d5d-89b4-40aa-b6ee-8962c265f112",
   "metadata": {},
   "outputs": [],
   "source": [
    "from gcsfs.core import GCSFileSystem\n",
    "gcs = GCSFileSystem('courseradataeng', token='/home/jupyter/.config/gcloud/application_default_credentials.json') "
   ]
  },
  {
   "cell_type": "code",
   "execution_count": 10,
   "id": "f04ffc8f-a7d9-4dca-824f-7bc1d8aa94ac",
   "metadata": {},
   "outputs": [],
   "source": [
    "with gcs.open('soleadify_sample_data/website_dataset_clean.csv') as f:\n",
    "    website_dataset_clean = pd.read_csv(f)\n"
   ]
  },
  {
   "cell_type": "code",
   "execution_count": 14,
   "id": "51b44f29-d3bd-453d-b194-b470bab7a9b4",
   "metadata": {},
   "outputs": [],
   "source": [
    "with gcs.open('soleadify_sample_data/google_dataset_clean.csv') as f:\n",
    "    google_dataset_clean = (pd.read_csv(f , quotechar='\"', escapechar='\\\\')\n",
    "                                .drop(['Unnamed: 0','region_name'],axis=1)\n",
    "                                .rename(columns={'country_final':'country_clean'\n",
    "                                        ,'region_consistent':'region_clean'\n",
    "                                       ,'city_consistent':'city_clean'\n",
    "                                       ,'domain':'root_domain'\n",
    "                                       ,'name':'site_name_clean'}\n",
    "                                       )\n",
    "                             )"
   ]
  },
  {
   "cell_type": "code",
   "execution_count": 15,
   "id": "1ca391c2-2710-4187-a30c-19862d349cc5",
   "metadata": {},
   "outputs": [],
   "source": [
    "levels_of_logic = {\n",
    "    'level_1':{'country_clean':'value'\n",
    "              ,'region_clean':'value'\n",
    "              ,'city_clean':'value'\n",
    "              ,'root_domain':'notna'\n",
    "              ,'site_name_clean':'notna'\n",
    "             }\n",
    "    ,'level_2':{'country_clean':'value'\n",
    "              ,'region_clean':'value'\n",
    "              ,'city_clean':'isna'\n",
    "              ,'root_domain':'notna'\n",
    "              ,'site_name_clean':'notna'\n",
    "             }\n",
    "    ,'level_3':{'country_clean':'value'\n",
    "              ,'region_clean':'isna'\n",
    "              ,'city_clean':'isna'\n",
    "              ,'root_domain':'notna'\n",
    "              ,'site_name_clean':'notna'\n",
    "             }\n",
    "    ,'level_4':{'country_clean':'isna'\n",
    "              ,'region_clean':'isna'\n",
    "              ,'city_clean':'isna'\n",
    "              ,'root_domain':'notna'\n",
    "              ,'site_name_clean':'notna'\n",
    "             }\n",
    "    ,'level_5':{'country_clean':'isna'\n",
    "              ,'region_clean':'isna'\n",
    "              ,'city_clean':'isna'\n",
    "              ,'root_domain':'notna'\n",
    "              ,'site_name_clean':'isna'\n",
    "             }\n",
    "}\n",
    "origin_mapping = {'dataset_1':'google','dataset_2':'website'}\n",
    "dataset_1 = google_dataset_clean\n",
    "dataset_2 = website_dataset_clean"
   ]
  },
  {
   "cell_type": "code",
   "execution_count": 16,
   "id": "5edfb69f-792e-4095-b0dd-8ba09347926c",
   "metadata": {},
   "outputs": [
    {
     "name": "stdout",
     "output_type": "stream",
     "text": [
      "1\n",
      "2\n"
     ]
    },
    {
     "name": "stderr",
     "output_type": "stream",
     "text": [
      "/opt/conda/lib/python3.7/site-packages/recordlinkage/base.py:139: RuntimeWarning: invalid value encountered in long_scalars\n",
      "  rr = 1 - n / n_max\n",
      "/opt/conda/lib/python3.7/site-packages/recordlinkage/base.py:155: RuntimeWarning: invalid value encountered in long_scalars\n",
      "  rr_avg = 1 - n_total / n_max_total\n"
     ]
    },
    {
     "name": "stdout",
     "output_type": "stream",
     "text": [
      "3\n",
      "4\n",
      "5\n",
      "6\n"
     ]
    }
   ],
   "source": [
    "index = 0\n",
    "for logic_dict in levels_of_logic.values():\n",
    "    blocking_columns = []\n",
    "    similar_columns = []\n",
    "    for column in logic_dict.keys():\n",
    "        if logic_dict[column] == 'value':\n",
    "            blocking_columns.append(column)\n",
    "        elif logic_dict[column] == 'notna':\n",
    "            similar_columns.append(column)\n",
    "    \n",
    "    combinations = h.get_combinations(dataset_1, dataset_2, blocking_columns)\n",
    "    \n",
    "    if combinations:\n",
    "\n",
    "        for combination in combinations[:2]:\n",
    "            subset_of_matches = m.match(dataset_1, dataset_2, origin_mapping, similar_columns, logic_dict, combination)\n",
    "            if not subset_of_matches.empty:\n",
    "                file_name = 'subset_of_matches_'+str(index)+'.csv'\n",
    "                with gcs.open('soleadify_sample_data/google_website_matches/'+file_name,'w') as f:\n",
    "                    subset_of_matches.to_csv(f, index = False, quotechar='\"', escapechar='\\\\')\n",
    "                \n",
    "                index += 1\n",
    "                print(index)\n",
    "    else:\n",
    "        \n",
    "        combination = combinations\n",
    "        subset_of_matches = m.match(dataset_1, dataset_2, origin_mapping, similar_columns, logic_dict, combination)\n",
    "        if not subset_of_matches.empty:\n",
    "\n",
    "            file_name = 'subset_of_matches_'+str(index)+'.csv'\n",
    "            with gcs.open('soleadify_sample_data/google_website_matches/'+file_name,'w') as f:\n",
    "                subset_of_matches.to_csv(f, index = False, quotechar='\"', escapechar='\\\\')\n",
    "        \n",
    "            index += 1\n",
    "            print(index)\n",
    "        "
   ]
  }
 ],
 "metadata": {
  "environment": {
   "kernel": "python3",
   "name": "common-cpu.m87",
   "type": "gcloud",
   "uri": "gcr.io/deeplearning-platform-release/base-cpu:m87"
  },
  "kernelspec": {
   "display_name": "Python 3",
   "language": "python",
   "name": "python3"
  },
  "language_info": {
   "codemirror_mode": {
    "name": "ipython",
    "version": 3
   },
   "file_extension": ".py",
   "mimetype": "text/x-python",
   "name": "python",
   "nbconvert_exporter": "python",
   "pygments_lexer": "ipython3",
   "version": "3.7.12"
  }
 },
 "nbformat": 4,
 "nbformat_minor": 5
}
